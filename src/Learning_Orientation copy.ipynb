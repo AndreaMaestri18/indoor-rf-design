{
 "cells": [
  {
   "cell_type": "markdown",
   "id": "5cd9d8c9-4fa5-4205-8c06-a325e33c950b",
   "metadata": {},
   "source": [
    "# Learning of the Transmitter Orientation via Gradient Descent"
   ]
  },
  {
   "cell_type": "markdown",
   "id": "50e3aa6b-e462-43a3-b939-bb614978dd4b",
   "metadata": {},
   "source": [
    "This notebook reproduces the results for the example application \"Optimization of transmitter orientation\" in the paper [Sionna RT: Differentiable Ray Tracing for Radio Propagation Modeling](https://arxiv.org).\n",
    "\n",
    "It requires [Sionna](https://github.com/NVlabs/sionna) v0.16 or later.\n"
   ]
  },
  {
   "cell_type": "markdown",
   "id": "e4409cb8-84be-4a9c-b989-1280367d4ebc",
   "metadata": {
    "tags": []
   },
   "source": [
    "## Imports and GPU Configuration"
   ]
  },
  {
   "cell_type": "code",
   "execution_count": null,
   "id": "f9c35642-0e46-4c53-8d1d-78dc655b57e6",
   "metadata": {
    "tags": []
   },
   "outputs": [],
   "source": [
    "# Set some environment variables\n",
    "import os\n",
    "gpu_num = \"\" # GPU to be used. Use \"\" to use the CPU\n",
    "os.environ['TF_CPP_MIN_LOG_LEVEL'] = '3' # Suppress some TF warnings\n",
    "os.environ[\"CUDA_VISIBLE_DEVICES\"] = f\"{gpu_num}\"\n",
    "\n",
    "# Import Sionna\n",
    "try:\n",
    "    import sionna\n",
    "except ImportError as e:\n",
    "    # Install Sionna if package is not already installed\n",
    "    os.system(\"pip install sionna\")\n",
    "    import sionna\n",
    "\n",
    "# Configure GPU\n",
    "import tensorflow as tf\n",
    "gpus = tf.config.list_physical_devices('GPU')\n",
    "if gpus:\n",
    "    try:\n",
    "        tf.config.experimental.set_memory_growth(gpus[0], True)\n",
    "    except RuntimeError as e:\n",
    "        print(e)\n",
    "\n",
    "# Avoid warnings from TensorFlow\n",
    "import warnings\n",
    "tf.get_logger().setLevel('ERROR')\n",
    "warnings.filterwarnings('ignore')\n",
    "\n",
    "# Other imports\n",
    "import numpy as np\n",
    "%matplotlib inline\n",
    "import matplotlib.pyplot as plt\n",
    "import matplotlib.patches as patches\n",
    "\n",
    "from sionna.rt import load_scene, PlanarArray, Transmitter, Receiver, Camera\n",
    "\n",
    "# Fix the seed for reproducible results\n",
    "tf.random.set_seed(1)\n",
    "\n",
    "pre_optimisation_cm = []\n",
    "post_optimisation_cm = []\n",
    "transmitter_coordinates = [[25,10,-2],[43.9,20.3,-2],[55.73, -14,3],[61.28, 40.13, 0], [75.94, 8.031, -0.7]]\n",
    "final_orientations = []"
   ]
  },
  {
   "cell_type": "markdown",
   "id": "6d0cf3c3-cdf9-4a0f-9b01-f0b6a1f2d40d",
   "metadata": {
    "tags": []
   },
   "source": [
    "## Configure the Scene and Generate Reference Data\n",
    "\n",
    "In this example, we load the scene \"etoile\" which is already available in Sionna and then place a single transmitter **with trainable orientation** within the scene.\n"
   ]
  },
  {
   "cell_type": "code",
   "execution_count": null,
   "id": "751a153e-aec0-4694-816e-73eba10d5690",
   "metadata": {
    "tags": []
   },
   "outputs": [],
   "source": [
    "for transmitter in transmitter_coordinates:\n",
    "\n",
    "    print(transmitter)\n",
    "    # Load the scene\n",
    "    #scene = load_scene(sionna.rt.scene.etoile)\n",
    "    # Load integrated scene\n",
    "    scene = load_scene(\"/Users/andreamaestri/Desktop/tectwin/GEO/geoloc-rf/scenes/dusseldorf_tile_densification/dusseldorf_tile.xml\") \n",
    "    scene.frequency = 3.5e9\n",
    "\n",
    "    # Set the scattering coefficient of the radio material in the scene\n",
    "    # to a non-zero value to enable scattering\n",
    "        \n",
    "    for mat in scene.radio_materials.values():\n",
    "        mat.relative_permittivity=2.0\n",
    "        mat.conductivity=5.0\n",
    "        mat.scattering_coefficient=0.3\n",
    "        mat.xpd_coefficient=0.1\n",
    "\n",
    "    # Configure the transmit array\n",
    "    scene.tx_array = PlanarArray(num_rows=1, num_cols=16,\n",
    "                                vertical_spacing=0.5,\n",
    "                                horizontal_spacing=0.5,\n",
    "                                pattern=\"tr38901\",\n",
    "                                polarization=\"V\",\n",
    "                                polarization_model=2)\n",
    "\n",
    "    # Configure the receive array (use to compute the coverage map)\n",
    "    scene.rx_array = PlanarArray(num_rows=1, num_cols=1,\n",
    "                                vertical_spacing=0.5,\n",
    "                                horizontal_spacing=0.5,\n",
    "                                pattern=\"iso\",\n",
    "                                polarization=\"V\",\n",
    "                                polarization_model=2)\n",
    "\n",
    "    # Create a transmitter and add it to the scene\n",
    "\n",
    "\n",
    "    tx = Transmitter(f\"tx\", position=transmitter,\n",
    "                        orientation=tf.Variable([ 0.,0.,0.], tf.float32)) # Trainable orientation\n",
    "    scene.add(tx)\n",
    "\n",
    "    # Rectangle defining the target area\n",
    "    target_center = np.array([0.,0.,0]) # Center\n",
    "    target_size = np.array([300.,300.]) # Size\n",
    "    target_orientation = np.array([0.1,0.1,0.1]) # Orientation: parallel to XY\n",
    "    cm_cell_size = np.array([1.,1.]) # Each cell is 2mx2m\n",
    "\n",
    "    with tf.GradientTape() as tape:\n",
    "            \n",
    "        # Compute coverage of the target area\n",
    "        target_cm = scene.coverage_map(cm_center=target_center,\n",
    "                                    cm_orientation=target_orientation, \n",
    "                                    cm_size=target_size, # Target area \n",
    "                                    cm_cell_size=cm_cell_size,\n",
    "                                    diffraction=False, scattering=False, # Enable diffraction and scattering in addition to reflection and LoS\n",
    "                                    check_scene=False) # Don't check the scene prior to compute to speed things up\n",
    "\n",
    "        #scaling = 1e6\n",
    "        #rate = tf.reduce_mean(tf.math.log(1. + ta\n",
    "        #rget_cm.as_tensor()*scaling))/tf.math.log(2.)\n",
    "        #loss = -rate\n",
    "        loss = tf.reduce_mean(target_cm.as_tensor())\n",
    "        \n",
    "    # Compute gradients and apply through the optimizer\n",
    "    grads = tape.gradient(loss, tape.watched_variables())\n",
    "\n",
    "    cm = scene.coverage_map(num_samples=10e4, # Reduce if your GPU does not have enough memory\n",
    "                        cm_cell_size=np.array([1.,1.]),\n",
    "                        diffraction=True, scattering=True,  # Enables diffraction and scattering in addition to reflection and LoS\n",
    "                        check_scene=False) # Don't check the scene prior to compute to speed things up)\n",
    "    print(cm.as_tensor().shape)\n",
    "    # Rectangle defining the target area\n",
    "    target_center = np.array([50.,10.,-3]) # Center\n",
    "    target_size = np.array([100.,100.]) # Size\n",
    "    target_orientation = np.array([0.,0.,0.]) # Orientation: parallel to XY\n",
    "\n",
    "    def visualize_target_area(ax, cell_size, center, size):\n",
    "    # ax: Pyplot.Axes object on which to show the coverage map\n",
    "    # cell_size : Size of the cells of the coverage map\n",
    "    # center : Center of the target area\n",
    "    # Size : Size of the target area\n",
    "    \n",
    "        def scene2cm(p):\n",
    "            # Change coordinates p : (x,y) from scene to coverage map system\n",
    "            shift = scene.center[:2].numpy() - scene.size[:2].numpy()*0.5\n",
    "            p = p - shift\n",
    "            p = np.floor(p/cell_size)\n",
    "            return p\n",
    "\n",
    "        # xy is the bottom left corner of the rectangle defining the target area\n",
    "        xy = scene2cm(center[:2] - size[:2]*0.5)\n",
    "        size_cm = np.floor(size/cell_size)\n",
    "        rect = patches.Rectangle(xy, size_cm[0], size_cm[1], linewidth=1, edgecolor='r', facecolor='none')\n",
    "        ax.add_patch(rect)\n",
    "\n",
    "\n",
    "    # Configure an SGD optimizer\n",
    "    # optimizer = tf.keras.optimizers.RMSprop(0.1)\n",
    "    optimizer = tf.keras.optimizers.legacy.RMSprop(0.1)\n",
    "\n",
    "    # Number of training steps\n",
    "    num_steps = 1\n",
    "\n",
    "    def train_step():\n",
    "        \"\"\"A single training step\"\"\"\n",
    "        with tf.GradientTape() as tape:\n",
    "            \n",
    "            # Compute coverage of the target area\n",
    "            target_cm = scene.coverage_map(cm_center=target_center,\n",
    "                                        cm_orientation=target_orientation, \n",
    "                                        cm_size=target_size, # Target area \n",
    "                                        cm_cell_size=cm_cell_size,\n",
    "                                        diffraction=True, scattering=True, # Enable diffraction and scattering in addition to reflection and LoS\n",
    "                                        check_scene=False) # Don't check the scene prior to compute to speed things up\n",
    "            # The loss function is a rate in bit\n",
    "            # We fix an arbitrary scaling factor corresponding to the transmit to noise power ratio\n",
    "            # The scaling has a direct impact the gradient magnitudes\n",
    "            scaling = 1e6\n",
    "            rate = tf.reduce_mean(tf.math.log(1. + target_cm.as_tensor()*scaling))/tf.math.log(2.)\n",
    "            loss = -rate\n",
    "        \n",
    "        # Compute gradients and apply through the optimizer\n",
    "        grads = tape.gradient(loss, tape.watched_variables())\n",
    "        optimizer.apply_gradients(zip(grads, tape.watched_variables()))\n",
    "        return rate\n",
    "\n",
    "    for step in range(num_steps):       \n",
    "        rate = train_step()\n",
    "        print(f\"Training step {step} - Rate: {rate.numpy():.2E} bit - tx orientation: {scene.transmitters[f'tx'].orientation.numpy()}\", end='\\r')\n",
    "\n",
    "\n",
    "    cm_new = scene.coverage_map(num_samples=10e5, # Reduce if your GPU does not have enough memory\n",
    "                            cm_cell_size=[1,1],\n",
    "                            diffraction=True, scattering=True, # Enable diffraction and scattering in addition to reflection and LoS\n",
    "                            check_scene=False) # Don't check the scene prior to compute to speed things up\n",
    "    \n",
    "    final_orientations.append(scene.transmitters[f'tx'].orientation.numpy())\n",
    "    pre_optimisation_cm.append(cm)\n",
    "    post_optimisation_cm.append(cm_new)"
   ]
  },
  {
   "cell_type": "markdown",
   "id": "188f328d-30aa-42d8-9195-403d5400bb70",
   "metadata": {},
   "source": [
    "Next, we will compute and show a coverage map for the transmitter `\"tx\"`. The coverage map corresponds to the average received power into small rectangular regions (or *cells*) of a plane, which, by default, is parallel to the XY plane, and sized such that it covers the entire scene with an elevation of $1.5$ m.\n",
    "\n",
    "The coverage map is divided into cells of size ``cm_cell_size`` (in meters). The smaller the size of the cells, the more precise the coverage map."
   ]
  },
  {
   "cell_type": "markdown",
   "id": "81e5be4f-0e36-492f-8b44-44d0445720d5",
   "metadata": {},
   "source": [
    "The shape of the coverage map is ``[num_tx, num_cells_y, num_cells_x]``"
   ]
  },
  {
   "cell_type": "markdown",
   "id": "7e5c31e4-2d69-4e4b-a44d-fb50c12dee98",
   "metadata": {},
   "source": [
    "In the above figure, white areas are not hit by any ray. This usually implies that the coverage is negligible in these areas."
   ]
  },
  {
   "cell_type": "markdown",
   "id": "439c09b2-6efb-4c77-9c4e-b5e139ec9cab",
   "metadata": {
    "tags": []
   },
   "source": [
    "## Learn the Orientation of the Transmitter\n",
    "\n",
    "We will now optimize through gradient descent the orientation of the transmitter to improve the coverage in an area defined by a rectangle with the following properties. Note that these properties are defined in the scene coordinate system."
   ]
  },
  {
   "cell_type": "markdown",
   "id": "e0b5aa73-89d6-4496-ad9f-d9b61653e4ed",
   "metadata": {},
   "source": [
    "Let's visualize the target area on the coverage map. We first define a utility function to highlight the target area."
   ]
  },
  {
   "cell_type": "markdown",
   "id": "a003b06d-3e47-44a5-9bf1-ea9dbc745ee4",
   "metadata": {},
   "source": [
    "Next, we optimize the coverage of the target area through gradient descent with respect to the orientation of the transmitter. To that end, during the optimization process, coverage is only computed for the target area."
   ]
  },
  {
   "cell_type": "markdown",
   "id": "e6d6c408-90fb-4833-8c95-91e0760ff7cb",
   "metadata": {},
   "source": [
    "Let's now compute the new coverage map over the entire scene with the optimized orientation."
   ]
  },
  {
   "cell_type": "markdown",
   "id": "9a1005a5-c8a2-4c80-9d4f-c46e1500e7ee",
   "metadata": {},
   "source": [
    "Finally, the coverage map before and after optimization are shown, with the target area highlighed."
   ]
  },
  {
   "cell_type": "code",
   "execution_count": null,
   "id": "d1342406-0651-4543-af1b-aa96ebf5730f",
   "metadata": {
    "tags": []
   },
   "outputs": [],
   "source": [
    "# Display the initial coverage map\n",
    "fig = cm.show(vmin=-150, vmax=-40)\n",
    "fig.suptitle(\"Before\")\n",
    "# Highlight the target area\n",
    "visualize_target_area(fig.axes[0], cm_cell_size, target_center, target_size,)\n",
    "\n",
    "# Display the optimized coverage map\n",
    "fig = cm_new.show(vmin=-150, vmax=-40)\n",
    "fig.suptitle(\"After\")\n",
    "# Highlight the target area\n",
    "visualize_target_area(fig.axes[0], cm_cell_size, target_center, target_size)"
   ]
  },
  {
   "cell_type": "code",
   "execution_count": null,
   "id": "ba5cd2ff",
   "metadata": {},
   "outputs": [],
   "source": [
    "for map in post_optimisation_cm:\n",
    "    map.show()"
   ]
  },
  {
   "cell_type": "code",
   "execution_count": null,
   "id": "ff0982b1",
   "metadata": {},
   "outputs": [],
   "source": [
    "for map in pre_optimisation_cm:\n",
    "    map.show()"
   ]
  },
  {
   "cell_type": "markdown",
   "id": "1cc7b666-a26c-4118-8bf7-cb22b720e87f",
   "metadata": {},
   "source": [
    "We can also visualize the coverage maps as an overlay of the scene using the renderer."
   ]
  },
  {
   "cell_type": "code",
   "execution_count": null,
   "id": "80829cca-1669-4170-a03c-c78012b70845",
   "metadata": {
    "tags": []
   },
   "outputs": [],
   "source": [
    "# Add a camera for viewing the scene from the sky\n",
    "scene.add(Camera(\"top-view2\", position=(0,0,300), orientation=(0.5*np.pi, 0.5*np.pi, 0.0)))"
   ]
  },
  {
   "cell_type": "code",
   "execution_count": null,
   "id": "2f01d89f",
   "metadata": {},
   "outputs": [],
   "source": [
    "fig = scene.render(\"top-view2\")\n",
    "fig.suptitle(\"No Coverage Map\");\n",
    "\n",
    "for i in range(2):# Rendering with the unoptimized orientation\n",
    "    fig = scene.render(\"top-view2\", coverage_map=pre_optimisation_cm[i], cm_vmin=-140, cm_vmax=-40)\n",
    "    fig.suptitle(\"Before\")\n",
    "\n",
    "    # Rendering with the optimized orientation\n",
    "    fig = scene.render(\"top-view2\", coverage_map=post_optimisation_cm[i], cm_vmin=-140, cm_vmax=-40)\n",
    "    fig.suptitle(\"After\");\n",
    "\n",
    "    print(\"\\\\n-------------------------------------------------\\\\n\")"
   ]
  },
  {
   "cell_type": "markdown",
   "id": "5ea9faeb-2fa4-4ffc-821f-e5eb8e2b2ea1",
   "metadata": {},
   "source": [
    "## Discussion\n",
    "\n",
    "- Other loss functions could be used. For example, if multiple transmitters are considered, maximization of the signal-to-interference ratio could be used as objective function.\n",
    "\n",
    "- Only the orientation is optimized in this notebook. However, other parameters could be learned as well, such as the geometry of the transmitter/receiver arrays as well as precoding vectors.\n",
    "\n",
    "- In general, the optimization of a coverage map is a non-convex problem, especially when considering antenna arrays with complex radiation patterns. One could resort to other optimization methods such as Bayesian learning in this case."
   ]
  },
  {
   "cell_type": "code",
   "execution_count": null,
   "id": "8a7eaa29",
   "metadata": {},
   "outputs": [],
   "source": [
    "final_orientations"
   ]
  },
  {
   "cell_type": "code",
   "execution_count": null,
   "id": "43dd42ac",
   "metadata": {},
   "outputs": [],
   "source": [
    "\"\"\"[array([-0.57380253,  0.12531541, -0.01863085], dtype=float32),\n",
    " array([-0.4782467 ,  0.06706429,  0.04451044], dtype=float32),\n",
    " array([ 1.2872813 ,  0.20976876, -0.17728148], dtype=float32),\n",
    " array([ 0.19478539,  0.11065693, -0.17349428], dtype=float32),\n",
    " array([ 2.0597959 ,  0.1899164 , -0.06186479], dtype=float32)]\n",
    "\"\"\""
   ]
  },
  {
   "cell_type": "code",
   "execution_count": null,
   "id": "2a0f0e59",
   "metadata": {},
   "outputs": [],
   "source": []
  }
 ],
 "metadata": {
  "kernelspec": {
   "display_name": "Python 3 (ipykernel)",
   "language": "python",
   "name": "python3"
  },
  "language_info": {
   "codemirror_mode": {
    "name": "ipython",
    "version": 3
   },
   "file_extension": ".py",
   "mimetype": "text/x-python",
   "name": "python",
   "nbconvert_exporter": "python",
   "pygments_lexer": "ipython3",
   "version": "3.9.18"
  }
 },
 "nbformat": 4,
 "nbformat_minor": 5
}
