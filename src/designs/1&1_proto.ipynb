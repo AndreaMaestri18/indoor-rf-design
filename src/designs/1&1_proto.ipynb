{
 "cells": [
  {
   "cell_type": "code",
   "execution_count": 41,
   "metadata": {},
   "outputs": [],
   "source": [
    "import os\n",
    "gpu_num = \"\" # Use \"\" to use the CPU\n",
    "os.environ[\"CUDA_VISIBLE_DEVICES\"] = f\"{gpu_num}\"\n",
    "os.environ['TF_CPP_MIN_LOG_LEVEL'] = '3'\n",
    "\n",
    "resolution = [480,320] # increase for§ higher quality of renderings\n",
    "\n",
    "# Allows to exit cell execution in Jupyter\n",
    "class ExitCell(Exception):\n",
    "    def _render_traceback_(self):\n",
    "        pass\n",
    "\n",
    "# Import Sionna\n",
    "try:\n",
    "    import sionna\n",
    "except ImportError as e:\n",
    "    # Install Sionna if package is not already installed\n",
    "    import os\n",
    "    os.system(\"pip install sionna\")\n",
    "    import sionna\n",
    "\n",
    "# Configure the notebook to use only a single GPU and allocate only as much memory as needed\n",
    "# For more details, see https://www.tensorflow.org/guide/gpu\n",
    "import tensorflow as tf\n",
    "gpus = tf.config.list_physical_devices('GPU')\n",
    "if gpus:\n",
    "    try:\n",
    "        tf.config.experimental.set_memory_growth(gpus[0], True)\n",
    "    except RuntimeError as e:\n",
    "        print(e)\n",
    "# Avoid warnings from TensorFlow\n",
    "tf.get_logger().setLevel('ERROR')\n",
    "\n",
    "tf.random.set_seed(1) # Set global random seed for reproducibility"
   ]
  },
  {
   "cell_type": "code",
   "execution_count": 42,
   "metadata": {},
   "outputs": [],
   "source": [
    "max_lat = 51.28801\n",
    "min_lat = 51.281646\n",
    "max_long = 6.79298\n",
    "min_long = 6.782016"
   ]
  },
  {
   "cell_type": "code",
   "execution_count": null,
   "metadata": {},
   "outputs": [],
   "source": [
    "import pandas as pd \n",
    "df_antennas = pd.read_excel(\"/Users/andreamaestri/Desktop/tectwin/GEO/indoor-rf-design/src/dusseldorf_antennas.xlsx\")\n",
    "df_antennas = df_antennas[(df_antennas['CellLatitude'] >= min_lat) & (df_antennas['CellLatitude'] <= max_lat) &\n",
    "                 (df_antennas['CellLongitude'] >= min_long) & (df_antennas['CellLongitude'] <= max_long) & (df_antennas['Technology'] == \"T5G\")]\n",
    "\n",
    "# Display the filtered DataFrame\n",
    "lat_long = df_antennas[[\"CellLatitude\",\"CellLongitude\",\"ActualAntennaheight\"]].values\n",
    "lat_long"
   ]
  },
  {
   "cell_type": "code",
   "execution_count": null,
   "metadata": {},
   "outputs": [],
   "source": [
    "df_antennas"
   ]
  },
  {
   "cell_type": "code",
   "execution_count": null,
   "metadata": {},
   "outputs": [],
   "source": [
    "import numpy as np \n",
    "angles_antennas = df_antennas[[\"RtsAzimuth\",\"ActualElectricalTilt\",\"ActualMechanicalTilt\"]]\n",
    "angles_antennas = (angles_antennas / 180 * np.pi).values\n",
    "angles_antennas"
   ]
  },
  {
   "cell_type": "code",
   "execution_count": 46,
   "metadata": {},
   "outputs": [],
   "source": [
    "from pyproj import Transformer\n",
    "import numpy as np\n",
    "transformer = Transformer.from_crs(\"epsg:4326\", 'epsg:32632')\n",
    "\n",
    "coordinates = np.array(transformer.transform(lat_long[:, 0],lat_long[:, 1]))\n",
    "delta = (0,0,38)\n",
    "\n",
    "moved_antennas_x = np.array([ x-delta[0] for x in coordinates.T[:, 0]])\n",
    "moved_antennas_y = np.array([ y-delta[1] for y in coordinates.T[:, 1]])\n",
    "moved_antennas_z = np.array([ z+delta[2] for z in lat_long[:,2]])\n",
    "shifted_coordinates = np.array([moved_antennas_x, moved_antennas_y, moved_antennas_z])"
   ]
  },
  {
   "cell_type": "code",
   "execution_count": null,
   "metadata": {},
   "outputs": [],
   "source": [
    "shifted_coordinates"
   ]
  },
  {
   "cell_type": "code",
   "execution_count": 48,
   "metadata": {},
   "outputs": [],
   "source": [
    "import matplotlib.pyplot as plt\n",
    "import matplotlib.animation as animation\n",
    "import numpy as np\n",
    "import time\n",
    "\n",
    "# Import Sionna RT components\n",
    "from sionna.rt import load_scene, Transmitter, Receiver, PlanarArray, RadioMaterial, LambertianPattern\n",
    "from sionna.constants import PI\n",
    "\n",
    "# For link-level simulations\n",
    "from sionna.channel import cir_to_ofdm_channel, subcarrier_frequencies, OFDMChannel, ApplyOFDMChannel, CIRDataset\n",
    "from sionna.nr import PUSCHConfig, PUSCHTransmitter, PUSCHReceiver\n",
    "from sionna.utils import compute_ber, ebnodb2no, PlotBER\n",
    "from sionna.ofdm import KBestDetector, LinearDetector\n",
    "from sionna.mimo import StreamManagement"
   ]
  },
  {
   "cell_type": "code",
   "execution_count": 114,
   "metadata": {},
   "outputs": [],
   "source": [
    "# Load integrated scene\n",
    "scene = load_scene(\"../../scenes/1&1_proto/duss_proto_1&1.xml\")"
   ]
  },
  {
   "cell_type": "code",
   "execution_count": 115,
   "metadata": {},
   "outputs": [],
   "source": [
    "scene.get(\"elm__4\").radio_material = \"itu_concrete\""
   ]
  },
  {
   "cell_type": "code",
   "execution_count": 116,
   "metadata": {},
   "outputs": [],
   "source": [
    "epsilon_r_complex = scene.get(\"elm__4\").radio_material.complex_relative_permittivity"
   ]
  },
  {
   "cell_type": "code",
   "execution_count": null,
   "metadata": {},
   "outputs": [],
   "source": [
    "fc = 3.5e9\n",
    "scene.frequency = fc # in Hz; implicitly updates RadioMaterials\n",
    "scene.bandwidth = 7.2e6\n",
    "\n",
    "scene.synthetic_array = True # If set to False, ray tracing will be done per antenna element (slower for large arrays)\n",
    "print(f\"Bandwidth: \", scene.bandwidth.numpy()/1e6, \"[MHz]\")"
   ]
  },
  {
   "cell_type": "code",
   "execution_count": 118,
   "metadata": {},
   "outputs": [],
   "source": [
    "da = 1\n",
    "M = 4\n",
    "N = 4\n",
    "\n",
    "#scene = load_scene(sionna.rt.scene.etoile)\n",
    "\n",
    "# Configure antenna array for all transmitters\n",
    "scene.tx_array = PlanarArray(num_rows=N,\n",
    "                             num_cols=M,\n",
    "                             vertical_spacing=da,\n",
    "                             horizontal_spacing=da,\n",
    "                             pattern=\"iso\",\n",
    "                             polarization=\"V\")\n",
    "\n",
    "# Configure antenna array for all receivers\n",
    "scene.rx_array = PlanarArray(num_rows=1,\n",
    "                             num_cols=1,\n",
    "                             vertical_spacing=da,\n",
    "                             horizontal_spacing=da,\n",
    "                             pattern=\"dipole\",\n",
    "                             polarization=\"V\")\n",
    "                             #polarization=\"cross\")"
   ]
  },
  {
   "cell_type": "code",
   "execution_count": null,
   "metadata": {},
   "outputs": [],
   "source": [
    "transmitters = [\n",
    "    {\n",
    "        \"name\":f\"antenna_{i}\",\n",
    "        \"position\":shifted_coordinates.T[i],\n",
    "        \"orientation\":angles_antennas[i],\n",
    "        \"power_dbm\":100\n",
    "    } for i in range(len(shifted_coordinates.T[:]))\n",
    "]\n",
    "\n",
    "transmitters \n",
    "\n"
   ]
  },
  {
   "cell_type": "code",
   "execution_count": null,
   "metadata": {},
   "outputs": [],
   "source": [
    "for i in range(len(transmitters)):\n",
    "    tx = Transmitter(name=transmitters[i][\"name\"],\n",
    "                 position=transmitters[i][\"position\"],\n",
    "                 power_dbm=transmitters[i][\"power_dbm\"])\n",
    "\n",
    "    scene.add(tx)\n",
    "    print(transmitters[i][\"name\"])\n",
    "    #scene.add(rx)"
   ]
  },
  {
   "cell_type": "code",
   "execution_count": null,
   "metadata": {},
   "outputs": [],
   "source": [
    "cm_new = scene.coverage_map(max_depth=3,           # Maximum number of ray scene interactions\n",
    "                        num_samples=int(10e6),\n",
    "                        cm_center=[3.45397483e+05,5.68351812e+06,40],\n",
    "                        cm_orientation=[0,0,0],\n",
    "                        cm_size=[1000,1000],\n",
    "                        cm_cell_size=[1,1])"
   ]
  },
  {
   "cell_type": "code",
   "execution_count": null,
   "metadata": {},
   "outputs": [],
   "source": [
    "import matplotlib as mpl \n",
    "pos, cell_ids = cm_new.sample_positions(\n",
    "          num_pos=10,\n",
    "          metric=\"rss\",\n",
    "          min_dist=10,\n",
    "          max_dist=200,\n",
    "          tx_association=True)\n",
    "\n",
    "fig = cm_new.show(metric=\"rss\", tx=0);\n",
    "\n",
    "# Visualize sampled positions\n",
    "for tx, ids in enumerate(cell_ids):\n",
    "    fig.axes[0].plot(ids[:,0], ids[:,1],\n",
    "                     marker='x',\n",
    "                     linestyle='',\n",
    "                     color=mpl.colormaps['Dark2'].colors[tx])"
   ]
  },
  {
   "cell_type": "code",
   "execution_count": null,
   "metadata": {},
   "outputs": [],
   "source": [
    "# Visualize received signal strength (RSS)\n",
    "cm_new.show(metric=\"rss\", tx=0);\n",
    "\n",
    "# Visulaize SINR\n",
    "cm_new.show(metric=\"sinr\", tx=0);\n",
    "\n",
    "cm_new.show_association(\"rss\");"
   ]
  },
  {
   "cell_type": "code",
   "execution_count": null,
   "metadata": {},
   "outputs": [],
   "source": []
  },
  {
   "cell_type": "code",
   "execution_count": null,
   "metadata": {},
   "outputs": [],
   "source": []
  }
 ],
 "metadata": {
  "kernelspec": {
   "display_name": "insioor-rf-design-env",
   "language": "python",
   "name": "python3"
  },
  "language_info": {
   "codemirror_mode": {
    "name": "ipython",
    "version": 3
   },
   "file_extension": ".py",
   "mimetype": "text/x-python",
   "name": "python",
   "nbconvert_exporter": "python",
   "pygments_lexer": "ipython3",
   "version": "3.9.18"
  }
 },
 "nbformat": 4,
 "nbformat_minor": 2
}
