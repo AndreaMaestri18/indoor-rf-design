{
 "cells": [
  {
   "cell_type": "code",
   "execution_count": null,
   "metadata": {},
   "outputs": [],
   "source": [
    "import os\n",
    "gpu_num = \"\" # Use \"\" to use the CPU\n",
    "os.environ[\"CUDA_VISIBLE_DEVICES\"] = f\"{gpu_num}\"\n",
    "os.environ['TF_CPP_MIN_LOG_LEVEL'] = '3'\n",
    "\n",
    "resolution = [480,320] # increase for higher quality of renderings\n",
    "\n",
    "# Allows to exit cell execution in Jupyter\n",
    "class ExitCell(Exception):\n",
    "    def _render_traceback_(self):\n",
    "        pass\n",
    "\n",
    "# Import Sionna\n",
    "try:\n",
    "    import sionna\n",
    "except ImportError as e:\n",
    "    # Install Sionna if package is not already installed\n",
    "    import os\n",
    "    os.system(\"pip install sionna\")\n",
    "    import sionna\n",
    "\n",
    "# Configure the notebook to use only a single GPU and allocate only as much memory as needed\n",
    "# For more details, see https://www.tensorflow.org/guide/gpu\n",
    "import tensorflow as tf\n",
    "gpus = tf.config.list_physical_devices('GPU')\n",
    "if gpus:\n",
    "    try:\n",
    "        tf.config.experimental.set_memory_growth(gpus[0], True)\n",
    "    except RuntimeError as e:\n",
    "        print(e)\n",
    "# Avoid warnings from TensorFlow\n",
    "tf.get_logger().setLevel('ERROR')\n",
    "\n",
    "tf.random.set_seed(1) # Set global random seed for reproducibility"
   ]
  },
  {
   "cell_type": "code",
   "execution_count": null,
   "metadata": {},
   "outputs": [],
   "source": [
    "import matplotlib.pyplot as plt\n",
    "import matplotlib.animation as animation\n",
    "import numpy as np\n",
    "import time\n",
    "\n",
    "# Import Sionna RT components\n",
    "from sionna.rt import load_scene, Transmitter, Receiver, PlanarArray, RadioMaterial, LambertianPattern\n",
    "from sionna.constants import PI\n",
    "\n",
    "# For link-level simulations\n",
    "from sionna.channel import cir_to_ofdm_channel, subcarrier_frequencies, OFDMChannel, ApplyOFDMChannel, CIRDataset\n",
    "from sionna.nr import PUSCHConfig, PUSCHTransmitter, PUSCHReceiver\n",
    "from sionna.utils import compute_ber, ebnodb2no, PlotBER\n",
    "from sionna.ofdm import KBestDetector, LinearDetector\n",
    "from sionna.mimo import StreamManagement"
   ]
  },
  {
   "cell_type": "code",
   "execution_count": null,
   "metadata": {},
   "outputs": [],
   "source": [
    "# Load integrated scene\n",
    "scene = load_scene(\"../../scenes/trainstation_deutscheban/trainstation_deutscheban.xml\")"
   ]
  },
  {
   "cell_type": "code",
   "execution_count": null,
   "metadata": {},
   "outputs": [],
   "source": [
    "da = 0.5\n",
    "M = 8\n",
    "N = 4\n",
    "\n",
    "scene._clear()\n",
    "\n",
    "# Configure antenna array for all transmitters\n",
    "scene.tx_array = PlanarArray(num_rows=N,\n",
    "                             num_cols=M,\n",
    "                             vertical_spacing=da,\n",
    "                             horizontal_spacing=da,\n",
    "                             pattern=\"tr38901\",\n",
    "                             polarization=\"V\")\n",
    "\n",
    "# Configure antenna array for all receivers\n",
    "scene.rx_array = PlanarArray(num_rows=1,\n",
    "                             num_cols=1,\n",
    "                             vertical_spacing=da,\n",
    "                             horizontal_spacing=da,\n",
    "                             pattern=\"tr38901\",\n",
    "                             polarization=\"V\")\n",
    "                             #polarization=\"cross\")\n",
    "\n",
    "# Create transmitter\n",
    "tx_pos = [95.8,114.6,18.11]\n",
    "tx = Transmitter(name=\"tx\",\n",
    "                 position=tx_pos)\n",
    "\n",
    "# Add transmitter instance to scene\n",
    "scene.add(tx)\n",
    "tx_pos = [94,60,13.41]\n",
    "\n",
    "# Receiver positions\n",
    "rx_pos = [43.9394, 125.376, 5.16987]\n",
    "rx = Receiver(name=\"rx\",\n",
    "              position=rx_pos)\n",
    "\n",
    "scene.add(rx)\n",
    "# Receiver positions\n",
    "\n",
    "sampling_frequency = 10e6\n",
    "sample_m = 62.0 / sampling_frequency\n",
    "\n",
    "c0 = sionna.SPEED_OF_LIGHT"
   ]
  },
  {
   "cell_type": "code",
   "execution_count": null,
   "metadata": {},
   "outputs": [],
   "source": [
    "tx.look_at(rx) # Transmitter points towards receiver\n",
    "rx.look_at(tx)"
   ]
  },
  {
   "cell_type": "code",
   "execution_count": null,
   "metadata": {},
   "outputs": [],
   "source": [
    "fc = 3.6e9\n",
    "scene.frequency = fc # in Hz; implicitly updates RadioMaterials\n",
    "\n",
    "scene.synthetic_array = False # If set to False, ray tracing will be done per antenna element (slower for large arrays)"
   ]
  },
  {
   "cell_type": "code",
   "execution_count": null,
   "metadata": {},
   "outputs": [],
   "source": [
    "scene._scene_params"
   ]
  },
  {
   "cell_type": "code",
   "execution_count": null,
   "metadata": {},
   "outputs": [],
   "source": [
    "scene.radio_materials"
   ]
  },
  {
   "cell_type": "code",
   "execution_count": null,
   "metadata": {},
   "outputs": [],
   "source": [
    "# Compute propagation paths\n",
    "paths = scene.compute_paths(max_depth=10,\n",
    "                            num_samples=1e6)  # Number of rays shot into directions defined\n",
    "                                              # by a Fibonacci spheree , too few rays can\n",
    "                                              # lead to missing paths\n",
    "\n",
    "paths.normalize_delays = False\n",
    "\n",
    "# FR2 setup\n",
    "subcarrier_spacing = 120e3 # numerology 3\n",
    "fft_size = 64 # for testing\n",
    "\n",
    "paths.apply_doppler(sampling_frequency=subcarrier_spacing, # Set to subcarrier spacing\n",
    "                    num_time_steps=10, # Number of time steps\n",
    "                    tx_velocities=[0,0,0], # We can set additional tx speeds\n",
    "                    rx_velocities=[0,0,0]) # Or rx speeds\n",
    "\n",
    "a, tau = paths.cir()"
   ]
  },
  {
   "cell_type": "code",
   "execution_count": null,
   "metadata": {},
   "outputs": [],
   "source": [
    "scene.preview(paths, show_devices=True, show_paths=True) # Use the mouse to focus on the visualized paths"
   ]
  },
  {
   "cell_type": "code",
   "execution_count": null,
   "metadata": {},
   "outputs": [],
   "source": [
    "# Compute frequencies of subcarriers and center around carrier frequency\n",
    "frequencies = subcarrier_frequencies(fft_size, subcarrier_spacing)\n",
    "\n",
    "# Compute the frequency response of the channel at frequencies.\n",
    "h_freq = cir_to_ofdm_channel(frequencies,\n",
    "                             a,\n",
    "                             tau,\n",
    "                             normalize=False) # Non-normalized includes path-loss"
   ]
  },
  {
   "cell_type": "code",
   "execution_count": null,
   "metadata": {},
   "outputs": [],
   "source": [
    "# (:,:,:,:,antenna,time_step,freq_bin)\n",
    "print(h_freq.shape)"
   ]
  },
  {
   "cell_type": "code",
   "execution_count": null,
   "metadata": {},
   "outputs": [],
   "source": [
    "# apply DFT beamforming (in frequency domain)\n",
    "m = np.arange(0, M)\n",
    "n = np.arange(0, N)\n",
    "\n",
    "angle_azi = 30\n",
    "angle_ele = 10\n",
    "\n",
    "theta = PI/180.0 * angle_azi\n",
    "phi = PI/180.0 * angle_ele\n",
    "#array_response = tf.cast(tf.exp(-2j * np.pi * fc / c0 * m * np.sin(theta)), dtype=tf.complex64) # tensorflow test\n",
    "array_response_azi = np.exp(-2j * PI * fc / c0 * da *  m * np.sin(theta))\n",
    "array_response_ele = np.exp(-2j * PI * fc / c0 * da *  n * np.sin(phi))\n",
    "\n",
    "array_response_2d = np.kron(array_response_azi, np.transpose(array_response_ele))\n",
    "\n",
    "print(array_response_2d)\n",
    "\n",
    "h_freq_tilde = np.zeros([1,1,1,1,1,10,64], dtype=np.complex64)\n",
    "                        \n",
    "                        \n",
    "for i in range(0,10,1): \n",
    "    h_freq_tilde[:,:,:,:,:,i,:] = np.matmul(array_response_2d, np.squeeze(h_freq[:,:,:,:,:,i,:] ))\n",
    "\n",
    "print(h_freq_tilde.shape)"
   ]
  },
  {
   "cell_type": "code",
   "execution_count": null,
   "metadata": {},
   "outputs": [],
   "source": [
    "# print beamforming pattern\n",
    "theta_range = np.linspace(-PI/2, PI/2, 100)\n",
    "phi_range = np.linspace(-PI/2, PI/2, 100)\n",
    "\n",
    "#theta_range = theta_range[..., None]\n",
    "#phi_range = phi_range[..., None]\n",
    "\n",
    "\n",
    "wavelength = c0/fc\n",
    "\n",
    "AF_azi = np.sin(M * PI * da * (np.sin(theta_range) - np.sin(theta) ) ) / (M * np.sin( PI * da * (np.sin(theta_range) - np.sin(theta) ) ) )\n",
    "AF_ele = np.sin(N * PI * da * (np.sin(phi_range) - np.sin(phi) ) ) / (N * np.sin( PI * da * (np.sin(phi_range) - np.sin(phi) ) ) ) \n",
    "\n",
    "# print(AF_azi.shape)\n",
    "# print(AF_ele.shape)\n",
    "\n",
    "AF_2D = np.kron(AF_azi, np.atleast_2d(AF_ele).T)\n",
    "\n",
    "print(AF_2D.shape)\n",
    "\n",
    "# AF_dB = 10*np.log10(np.abs(AF))\n",
    "plt.figure()\n",
    "plt.plot(theta_range / PI * 180, AF_ele, \"-\")\n",
    "plt.xlabel(\"Angle\")\n",
    "plt.ylabel(\"Array response\")\n",
    "\n",
    "theta_range, phi_range = np.meshgrid(theta_range, phi_range)\n",
    "\n",
    "fig = plt.figure()\n",
    "ax = fig.add_subplot(projection='3d')\n",
    "ax.plot_surface(theta_range / PI * 180, phi_range  / PI * 180, AF_2D)\n",
    "# ax.set_aspect('equal')\n"
   ]
  },
  {
   "cell_type": "code",
   "execution_count": null,
   "metadata": {},
   "outputs": [],
   "source": [
    "# compare frequency responses\n",
    "\n",
    "# Visualize results\n",
    "plt.figure()\n",
    "plt.plot(np.abs(h_freq)[0,0,0,0,0,0,:], \"-\")\n",
    "plt.plot(np.abs(h_freq_tilde)[0,0,0,0,0,0,:], \"--\")\n",
    "plt.xlabel(\"Subcarrier index\")\n",
    "plt.ylabel(\"Channel frequency response\")\n"
   ]
  },
  {
   "cell_type": "code",
   "execution_count": null,
   "metadata": {},
   "outputs": [],
   "source": [
    "test_antenna = sionna.rt.Antenna(\"tr38901\", \"V\")"
   ]
  },
  {
   "cell_type": "code",
   "execution_count": null,
   "metadata": {},
   "outputs": [],
   "source": [
    "def bf_pattern(theta, phi, slant_angle=0.0,\n",
    "                    polarization_model=2, dtype=tf.complex64):\n",
    "    r\"\"\"\n",
    "    Antenna pattern from 3GPP TR 38.901 (Table 7.3-1) [TR38901]_\n",
    "\n",
    "    Input\n",
    "    -----\n",
    "    theta: array_like, float\n",
    "        Zenith angles wrapped within [0,pi] [rad]\n",
    "\n",
    "    phi: array_like, float\n",
    "        Azimuth angles wrapped within [-pi, pi) [rad]\n",
    "\n",
    "    slant_angle: float\n",
    "        Slant angle of the linear polarization [rad].\n",
    "        A slant angle of zero means vertical polarization.\n",
    "\n",
    "    polarization_model: int, one of [1,2]\n",
    "        Polarization model to be used. Options `1` and `2`\n",
    "        refer to :func:`~sionna.rt.antenna.polarization_model_1`\n",
    "        and :func:`~sionna.rt.antenna.polarization_model_2`,\n",
    "        respectively.\n",
    "        Defaults to `2`.\n",
    "\n",
    "    dtype : tf.complex64 or tf.complex128\n",
    "        Datatype.\n",
    "        Defaults to `tf.complex64`.\n",
    "\n",
    "    Output\n",
    "    ------\n",
    "    c_theta: array_like, complex\n",
    "        Zenith pattern\n",
    "\n",
    "    c_phi: array_like, complex\n",
    "        Azimuth pattern\n",
    "\n",
    "    \"\"\"\n",
    "    rdtype = dtype.real_dtype\n",
    "    theta = tf.cast(theta, rdtype)\n",
    "    phi = tf.cast(phi, rdtype)\n",
    "\n",
    "    slant_angle = tf.cast(slant_angle, rdtype)\n",
    "    M = 8\n",
    "    N = 8\n",
    "    da = 0.5\n",
    "    theta_p = -PI/6#0.0\n",
    "    phi_p = 0.0#-PI/3\n",
    "\n",
    "    #wrap theta_p to [-PI/2, PI/2]\n",
    "    theta = theta+PI/2\n",
    "\n",
    "    # Wrap phi to [-PI,PI]\n",
    "    phi = tf.math.floormod(phi+PI, 2*PI)-PI\n",
    "\n",
    "    if not theta.shape==phi.shape:\n",
    "        raise ValueError(\"theta and phi must have the same shape.\")\n",
    "    if polarization_model not in [1,2]:\n",
    "        raise ValueError(\"polarization_model must be 1 or 2\")\n",
    "    a_azi = tf.zeros_like(phi)\n",
    "\n",
    "    phi = tf.where(phi<-PI/2, 0.0, phi)\n",
    "    phi = tf.where(phi>PI/2, 0.0, phi)\n",
    "\n",
    "    a_azi = tf.math.divide_no_nan(tf.sin( M * (PI * da * tf.sin(phi) - PI*da * tf.sin(phi_p) ) ) , (M * tf.sin( PI * da * tf.sin(phi) - PI * da * tf.sin(phi_p) )))\n",
    "    a_azi = tf.where(phi<-PI/2, 0.0, a_azi)\n",
    "    a_azi = tf.where(phi>PI/2, 0.0, a_azi)\n",
    "    \n",
    "    a_ele = tf.math.divide_no_nan(tf.sin( N * (PI * da * tf.sin(theta) - PI*da * tf.sin(theta_p) ) ), (N * tf.sin( PI * da * tf.sin(theta) - PI * da * tf.sin(theta_p) )))\n",
    "\n",
    "    c = tf.complex(a_ele, a_azi)\n",
    "    if polarization_model==1:\n",
    "        return polarization_model_1(c, theta, phi, slant_angle)\n",
    "    else:\n",
    "        return polarization_model_2(c, slant_angle)"
   ]
  },
  {
   "cell_type": "code",
   "execution_count": null,
   "metadata": {},
   "outputs": [],
   "source": [
    "from sionna.rt.antenna import *"
   ]
  },
  {
   "cell_type": "code",
   "execution_count": null,
   "metadata": {},
   "outputs": [],
   "source": [
    "theta = np.linspace(0.0, PI, 50)\n",
    "phi = np.linspace(-PI, PI, 50)\n",
    "theta_grid, phi_grid = np.meshgrid(theta, phi, indexing='ij')\n",
    "c_theta, c_phi = bf_pattern(theta_grid, phi_grid)"
   ]
  },
  {
   "cell_type": "code",
   "execution_count": null,
   "metadata": {},
   "outputs": [],
   "source": [
    "theta[20], phi[20]"
   ]
  },
  {
   "cell_type": "code",
   "execution_count": null,
   "metadata": {},
   "outputs": [],
   "source": [
    "theta_grid[20][20], phi_grid[20][20]"
   ]
  },
  {
   "cell_type": "code",
   "execution_count": null,
   "metadata": {},
   "outputs": [],
   "source": [
    "test_ant2 = Antenna(pattern=bf_pattern, polarization=\"H\",\n",
    "                 polarization_model=2,\n",
    "                 dtype=tf.complex64\n",
    "                )"
   ]
  },
  {
   "cell_type": "code",
   "execution_count": null,
   "metadata": {},
   "outputs": [],
   "source": [
    "sionna.rt.antenna.visualize(bf_pattern)"
   ]
  },
  {
   "cell_type": "code",
   "execution_count": null,
   "metadata": {},
   "outputs": [],
   "source": [
    "sionna.rt.antenna.visualize(dipole_pattern)\n",
    "sionna.rt.antenna.visualize(hw_dipole_pattern)\n",
    "sionna.rt.antenna.visualize(iso_pattern)\n",
    "sionna.rt.antenna.visualize(tr38901_pattern)"
   ]
  },
  {
   "cell_type": "code",
   "execution_count": null,
   "metadata": {},
   "outputs": [],
   "source": [
    "\n",
    "theta = np.linspace(0.0, PI, 50)\n",
    "phi = np.linspace(-PI, PI, 50)\n",
    "theta_grid, phi_grid = np.meshgrid(theta, phi, indexing='ij')\n",
    "\n",
    "phi_grid = tf.where(phi_grid<-PI/2, 0.0, phi_grid)\n",
    "phi_grid = tf.where(phi_grid>PI/2, 0.0, phi_grid)\n",
    "\n",
    "print(phi_grid)\n",
    "\n",
    "\n",
    "\n",
    "c_theta, c_phi = bf_pattern(theta_grid, phi_grid)\n",
    "\n"
   ]
  },
  {
   "cell_type": "code",
   "execution_count": null,
   "metadata": {},
   "outputs": [],
   "source": [
    "no = 0.1 # noise variance\n",
    "\n",
    "# Init channel layer\n",
    "channel = ApplyOFDMChannel(add_awgn=True)"
   ]
  },
  {
   "cell_type": "code",
   "execution_count": null,
   "metadata": {},
   "outputs": [],
   "source": [
    "cm = scene.coverage_map(num_samples=10e5,\n",
    "                            max_depth=5,\n",
    "                            diffraction=True,\n",
    "                            cm_center=[0, 0 ,5.15],\n",
    "                            cm_orientation=[0,0,0],\n",
    "                            cm_size=[400,400],\n",
    "                            cm_cell_size=[1,1])"
   ]
  },
  {
   "cell_type": "code",
   "execution_count": null,
   "metadata": {},
   "outputs": [],
   "source": [
    "scene.preview(coverage_map=cm)"
   ]
  },
  {
   "cell_type": "code",
   "execution_count": null,
   "metadata": {},
   "outputs": [],
   "source": [
    "cm.show();"
   ]
  },
  {
   "cell_type": "code",
   "execution_count": null,
   "metadata": {},
   "outputs": [],
   "source": []
  }
 ],
 "metadata": {
  "kernelspec": {
   "display_name": "sionna",
   "language": "python",
   "name": "python3"
  },
  "language_info": {
   "codemirror_mode": {
    "name": "ipython",
    "version": 3
   },
   "file_extension": ".py",
   "mimetype": "text/x-python",
   "name": "python",
   "nbconvert_exporter": "python",
   "pygments_lexer": "ipython3",
   "version": "3.9.18"
  }
 },
 "nbformat": 4,
 "nbformat_minor": 2
}
