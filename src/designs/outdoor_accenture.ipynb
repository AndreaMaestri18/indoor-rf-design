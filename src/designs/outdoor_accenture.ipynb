{
 "cells": [
  {
   "cell_type": "code",
   "execution_count": null,
   "metadata": {},
   "outputs": [],
   "source": [
    "import os\n",
    "gpu_num = \"\" # Use \"\" to use the CPU\n",
    "os.environ[\"CUDA_VISIBLE_DEVICES\"] = f\"{gpu_num}\"\n",
    "os.environ['TF_CPP_MIN_LOG_LEVEL'] = '3'\n",
    "\n",
    "resolution = [480,320] # increase for higher quality of renderings\n",
    "\n",
    "# Allows to exit cell execution in Jupyter\n",
    "class ExitCell(Exception):\n",
    "    def _render_traceback_(self):\n",
    "        pass\n",
    "\n",
    "# Import Sionna\n",
    "try:\n",
    "    import sionna\n",
    "except ImportError as e:\n",
    "    # Install Sionna if package is not already installed\n",
    "    import os\n",
    "    os.system(\"pip install sionna\")\n",
    "    import sionna\n",
    "\n",
    "# Configure the notebook to use only a single GPU and allocate only as much memory as needed\n",
    "# For more details, see https://www.tensorflow.org/guide/gpu\n",
    "import tensorflow as tf\n",
    "gpus = tf.config.list_physical_devices('GPU')\n",
    "if gpus:\n",
    "    try:\n",
    "        tf.config.experimental.set_memory_growth(gpus[0], True)\n",
    "    except RuntimeError as e:\n",
    "        print(e)\n",
    "# Avoid warnings from TensorFlow\n",
    "tf.get_logger().setLevel('ERROR')\n",
    "\n",
    "tf.random.set_seed(1) # Set global random seed for reproducibility"
   ]
  },
  {
   "cell_type": "code",
   "execution_count": null,
   "metadata": {},
   "outputs": [],
   "source": [
    "import matplotlib.pyplot as plt\n",
    "import matplotlib.animation as animation\n",
    "import numpy as np\n",
    "import time\n",
    "\n",
    "# Import Sionna RT components\n",
    "from sionna.rt import load_scene, Transmitter, Receiver, PlanarArray, RadioMaterial, LambertianPattern\n",
    "from sionna.constants import PI\n",
    "\n",
    "# For link-level simulations\n",
    "from sionna.channel import cir_to_ofdm_channel, subcarrier_frequencies, OFDMChannel, ApplyOFDMChannel, CIRDataset\n",
    "from sionna.nr import PUSCHConfig, PUSCHTransmitter, PUSCHReceiver\n",
    "from sionna.utils import compute_ber, ebnodb2no, PlotBER\n",
    "from sionna.ofdm import KBestDetector, LinearDetector\n",
    "from sionna.mimo import StreamManagement"
   ]
  },
  {
   "cell_type": "code",
   "execution_count": null,
   "metadata": {},
   "outputs": [],
   "source": [
    "# Load integrated scene\n",
    "scene = load_scene(\"../../scenes/outdoor_accenture/accenturePOC.xml\")"
   ]
  },
  {
   "cell_type": "code",
   "execution_count": null,
   "metadata": {},
   "outputs": [],
   "source": [
    "scene.get(\"elm__4\").radio_material = \"itu_concrete\""
   ]
  },
  {
   "cell_type": "code",
   "execution_count": null,
   "metadata": {},
   "outputs": [],
   "source": [
    "xy_center = [-5,45]\n",
    "z_centers = [5.6, 1.5]"
   ]
  },
  {
   "cell_type": "code",
   "execution_count": null,
   "metadata": {},
   "outputs": [],
   "source": [
    "sampling_frequency = 10e6\n",
    "sample_m = 62.0 / sampling_frequency\n",
    "\n",
    "c0 = sionna.SPEED_OF_LIGHT\n",
    "\n",
    "fc = 3.7e9\n",
    "scene.frequency = fc # in Hz; implicitly updates RadioMaterials\n",
    "\n",
    "scene.synthetic_array = False # If set to False, ray tracing will be done per antenna element (slower for large arrays)"
   ]
  },
  {
   "cell_type": "code",
   "execution_count": null,
   "metadata": {},
   "outputs": [],
   "source": [
    "da = 0.1\n",
    "M = 4\n",
    "N = 4\n",
    "\n",
    "scene._clear()\n",
    "\n",
    "# Configure antenna array for all transmitters\n",
    "scene.tx_array = PlanarArray(num_rows=N,\n",
    "                             num_cols=M,\n",
    "                             vertical_spacing=da,\n",
    "                             horizontal_spacing=da,\n",
    "                             pattern=\"tr38901\",\n",
    "                             polarization=\"V\")\n",
    "\n",
    "# Configure antenna array for all receivers\n",
    "scene.rx_array = PlanarArray(num_rows=1,\n",
    "                             num_cols=1,\n",
    "                             vertical_spacing=da,\n",
    "                             horizontal_spacing=da,\n",
    "                             pattern=\"dipole\",\n",
    "                             polarization=\"V\")\n",
    "                             #polarization=\"cross\")"
   ]
  },
  {
   "cell_type": "code",
   "execution_count": null,
   "metadata": {},
   "outputs": [],
   "source": [
    "transmitters = [\n",
    "    {\n",
    "        \"name\":\"main_site\",\n",
    "        \"position\":[5.31,-33.21,16],\n",
    "        \"orientation\":tf.Variable([0.0, 0.0, 0.0], dtype=tf.float32)\n",
    "    },\n",
    "]"
   ]
  },
  {
   "cell_type": "code",
   "execution_count": null,
   "metadata": {},
   "outputs": [],
   "source": [
    "for i in range(len(transmitters)):\n",
    "    tx = Transmitter(name=transmitters[i][\"name\"],\n",
    "                 position=transmitters[i][\"position\"],\n",
    "                 orientation=transmitters[i][\"orientation\"])\n",
    "    # rx = Receiver(name=receivers[i][\"name\"],\n",
    "    #           position=receivers[i][\"position\"])\n",
    "    scene.add(tx)\n",
    "    print(transmitters[i][\"name\"])\n",
    "    #scene.add(rx)"
   ]
  },
  {
   "cell_type": "code",
   "execution_count": null,
   "metadata": {},
   "outputs": [],
   "source": [
    "import numpy as np\n",
    "import tensorflow as tf\n",
    "\n",
    "# Configure an SGD optimizer\n",
    "optimizer = tf.keras.optimizers.legacy.RMSprop(0.1)\n",
    "\n",
    "# Number of training steps\n",
    "num_steps = 10\n",
    "\n",
    "# Weighting factors for the loss terms\n",
    "weight_sinr = 1\n",
    "weight_coverage = 1\n",
    "\n",
    "def train_step():\n",
    "    \"\"\"A single training step\"\"\"\n",
    "    with tf.GradientTape() as tape:\n",
    "        print(tape.watched_variables())\n",
    "        \n",
    "        # Compute coverage of the target area\n",
    "        target_cm = scene.coverage_map(\n",
    "                                       cm_center=[-32,-62]+ [z_centers[1]],\n",
    "                                       cm_orientation=[0,0,0],\n",
    "                                       cm_size=[80,80],\n",
    "                                       cm_cell_size=[0.5,0.5])\n",
    "        \n",
    "        # Convert to tf.float32 to ensure dtype consistency\n",
    "        target_cm_tensor = target_cm.as_tensor()\n",
    "        \n",
    "        # Compute coverage rate\n",
    "        scaling = 1e10\n",
    "        rate = tf.reduce_mean(tf.math.log(1. + target_cm_tensor * scaling))\n",
    "        coverage_loss = -rate  # Note the negative sign to make it a loss\n",
    "        # Combine SINR loss and coverage loss\n",
    "        loss = weight_coverage * coverage_loss\n",
    "    # Compute gradients and apply through the optimizer\n",
    "    grads = tape.gradient(loss, tape.watched_variables())\n",
    "    optimizer.apply_gradients(zip(grads, tape.watched_variables()))\n",
    "    return loss\n",
    "\n",
    "for step in range(num_steps):\n",
    "    loss = train_step()\n",
    "    print(f\"Training step {step} - Loss: {loss.numpy():.2E} - tx orientation: {scene.transmitters['main_site'].orientation.numpy()}\", end='\\r')\n",
    "    \n"
   ]
  },
  {
   "cell_type": "code",
   "execution_count": null,
   "metadata": {},
   "outputs": [],
   "source": [
    "cm_new = scene.coverage_map(cm_center=[5.31,-33.21] + [z_centers[1]],\n",
    "                            cm_orientation=[0,0,0],\n",
    "                            cm_size=[200,200],\n",
    "                            cm_cell_size=[0.5,0.5])"
   ]
  },
  {
   "cell_type": "code",
   "execution_count": null,
   "metadata": {},
   "outputs": [],
   "source": [
    "import matplotlib.pyplot as plt\n",
    "import seaborn as sns\n",
    "\n",
    "cm_0 = 43.01 + 10*np.log10(np.where(cm_new[0]==0, 1e-32, cm_new[0]))\n",
    "\n",
    "sns.heatmap(cm_0)\n",
    "\n",
    "# Adjust layout\n",
    "plt.tight_layout()\n",
    "\n",
    "# Display the plots\n",
    "plt.show()"
   ]
  },
  {
   "cell_type": "code",
   "execution_count": null,
   "metadata": {},
   "outputs": [],
   "source": [
    "import numpy as np\n",
    "\n",
    "# Define the threshold\n",
    "T = -90\n",
    "\n",
    "# Create binary matrix B\n",
    "B = (cm_0 > T).astype(np.float32)\n",
    "\n",
    "sns.heatmap(B)\n",
    "plt.show()"
   ]
  },
  {
   "cell_type": "code",
   "execution_count": null,
   "metadata": {},
   "outputs": [],
   "source": [
    "cm_new.show();"
   ]
  },
  {
   "cell_type": "code",
   "execution_count": null,
   "metadata": {},
   "outputs": [],
   "source": [
    "scene.preview(coverage_map=cm_new)"
   ]
  },
  {
   "cell_type": "code",
   "execution_count": null,
   "metadata": {},
   "outputs": [],
   "source": [
    "import numpy as np\n",
    "\n",
    "def calculate_sinr_matrix(signal_matrices, noise_power):\n",
    "    # Convert the noise power to linear scale\n",
    "    noise_linear = 10 ** (noise_power / 10)\n",
    "\n",
    "    # Number of matrices (4 antennas) and dimensions of the matrix\n",
    "    num_antennas = len(signal_matrices)\n",
    "    rows, cols = signal_matrices[0].shape\n",
    "\n",
    "    # Initialize the SINR matrix with zeros\n",
    "    sinr_matrix = np.zeros((rows, cols))\n",
    "\n",
    "    # Optionally store the index of the reference signal (strongest signal) for each point\n",
    "    reference_signal_indices = np.zeros((rows, cols), dtype=int)\n",
    "\n",
    "    # Loop through each point in the matrices\n",
    "    for i in range(rows):\n",
    "        for j in range(cols):\n",
    "            # Extract the signal power values at this point from all antennas\n",
    "            signal_values = [signal_matrices[k][i, j] for k in range(num_antennas)]\n",
    "            if i == j and i == 200: print(signal_values)\n",
    "\n",
    "            # Convert signal values from dB to linear scale\n",
    "            signal_values_linear = [10 ** (sv / 10) for sv in signal_values]\n",
    "\n",
    "            # Find the reference signal (the strongest signal)\n",
    "            reference_signal_linear = max(signal_values_linear)\n",
    "            reference_signal_index = signal_values_linear.index(reference_signal_linear)\n",
    "\n",
    "            # Store the index of the reference signal (optional)\n",
    "            reference_signal_indices[i, j] = reference_signal_index\n",
    "\n",
    "            # Calculate interference (sum of all signals except the reference signal)\n",
    "            interference_linear = sum(signal_values_linear) - reference_signal_linear\n",
    "\n",
    "            # Calculate SINR at this point\n",
    "            sinr_linear = reference_signal_linear / (interference_linear+noise_linear)\n",
    "\n",
    "            if i == j and i == 200: print(reference_signal_linear, interference_linear, noise_linear, sinr_linear)\n",
    "\n",
    "            # Convert SINR back to dB scale and store in the SINR matrix\n",
    "            sinr_matrix[i, j] = 10 * np.log10(sinr_linear)\n",
    "\n",
    "    return sinr_matrix, reference_signal_indices\n",
    "\n",
    "sinr_matrix, _= calculate_sinr_matrix([cm_0,cm_1,cm_2,cm_3,cm_4,cm_5,cm_6], -999999999999999999)\n"
   ]
  },
  {
   "cell_type": "code",
   "execution_count": null,
   "metadata": {},
   "outputs": [],
   "source": [
    "import numpy as np\n",
    "\n",
    "# Example matrix A\n",
    "A = np.array([[3, 7, 5],\n",
    "              [6, 2, 8],\n",
    "              [1, 9, 4]])\n",
    "\n",
    "# Define the threshold\n",
    "T = 5\n",
    "\n",
    "# Create binary matrix B\n",
    "B = (A > T).astype(int)\n",
    "\n",
    "print(\"Original Matrix A:\")\n",
    "print(A)\n",
    "\n",
    "print(\"Binary Matrix B:\")\n",
    "print(B)\n"
   ]
  },
  {
   "cell_type": "code",
   "execution_count": null,
   "metadata": {},
   "outputs": [],
   "source": [
    "import numpy as np\n",
    "\n",
    "# Define the threshold\n",
    "T = 13\n",
    "\n",
    "# Create binary matrix B\n",
    "B = (sinr_matrix > T).astype(np.float32)\n",
    "\n",
    "sns.heatmap(B)\n",
    "plt.show()"
   ]
  },
  {
   "cell_type": "code",
   "execution_count": null,
   "metadata": {},
   "outputs": [],
   "source": [
    "counter = 0\n",
    "summ = []\n",
    "for i,row in enumerate(sinr_matrix):\n",
    "    if i < 300 and i > 180:\n",
    "        for j,item in enumerate(row):\n",
    "            if j < 580 and j > 140:\n",
    "                if item > 0.5:\n",
    "                    summ.append(item)\n",
    "                if item > 0.5 and item < 5: print(item,i,j)\n",
    "            \n",
    "            \n",
    "\n",
    "print(min(summ),max(summ),np.mean(summ))"
   ]
  },
  {
   "cell_type": "code",
   "execution_count": null,
   "metadata": {},
   "outputs": [],
   "source": [
    "# Print the resulting SINR matrix\n",
    "print(\"SINR Matrix (in dB):\")\n",
    "sns.heatmap(sinr_matrix)\n",
    "plt.show()\n"
   ]
  },
  {
   "cell_type": "code",
   "execution_count": null,
   "metadata": {},
   "outputs": [],
   "source": []
  },
  {
   "cell_type": "code",
   "execution_count": null,
   "metadata": {},
   "outputs": [],
   "source": []
  },
  {
   "cell_type": "code",
   "execution_count": null,
   "metadata": {},
   "outputs": [],
   "source": []
  },
  {
   "cell_type": "code",
   "execution_count": null,
   "metadata": {},
   "outputs": [],
   "source": []
  }
 ],
 "metadata": {
  "kernelspec": {
   "display_name": "insioor-rf-design-env",
   "language": "python",
   "name": "python3"
  },
  "language_info": {
   "codemirror_mode": {
    "name": "ipython",
    "version": 3
   },
   "file_extension": ".py",
   "mimetype": "text/x-python",
   "name": "python",
   "nbconvert_exporter": "python",
   "pygments_lexer": "ipython3",
   "version": "3.9.18"
  }
 },
 "nbformat": 4,
 "nbformat_minor": 2
}
