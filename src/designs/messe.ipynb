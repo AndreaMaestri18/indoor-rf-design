{
 "cells": [
  {
   "cell_type": "code",
   "execution_count": null,
   "metadata": {},
   "outputs": [],
   "source": [
    "import os\n",
    "gpu_num = \"\" # Use \"\" to use the CPU\n",
    "os.environ[\"CUDA_VISIBLE_DEVICES\"] = f\"{gpu_num}\"\n",
    "os.environ['TF_CPP_MIN_LOG_LEVEL'] = '3'\n",
    "\n",
    "resolution = [480,320] # increase for higher quality of renderings\n",
    "\n",
    "# Allows to exit cell execution in Jupyter\n",
    "class ExitCell(Exception):\n",
    "    def _render_traceback_(self):\n",
    "        pass\n",
    "\n",
    "# Import Sionna\n",
    "try:\n",
    "    import sionna\n",
    "except ImportError as e:\n",
    "    # Install Sionna if package is not already installed\n",
    "    import os\n",
    "    os.system(\"pip install sionna\")\n",
    "    import sionna\n",
    "\n",
    "# Configure the notebook to use only a single GPU and allocate only as much memory as needed\n",
    "# For more details, see https://www.tensorflow.org/guide/gpu\n",
    "import tensorflow as tf\n",
    "gpus = tf.config.list_physical_devices('GPU')\n",
    "if gpus:\n",
    "    try:\n",
    "        tf.config.experimental.set_memory_growth(gpus[0], True)\n",
    "    except RuntimeError as e:\n",
    "        print(e)\n",
    "# Avoid warnings from TensorFlow\n",
    "tf.get_logger().setLevel('ERROR')\n",
    "\n",
    "tf.random.set_seed(1) # Set global random seed for reproducibility"
   ]
  },
  {
   "cell_type": "code",
   "execution_count": null,
   "metadata": {},
   "outputs": [],
   "source": [
    "import matplotlib.pyplot as plt\n",
    "import matplotlib.animation as animation\n",
    "import numpy as np\n",
    "import time\n",
    "\n",
    "# Import Sionna RT components\n",
    "from sionna.rt import load_scene, Transmitter, Receiver, PlanarArray, RadioMaterial, LambertianPattern\n",
    "from sionna.constants import PI\n",
    "\n",
    "# For link-level simulations\n",
    "from sionna.channel import cir_to_ofdm_channel, subcarrier_frequencies, OFDMChannel, ApplyOFDMChannel, CIRDataset\n",
    "from sionna.nr import PUSCHConfig, PUSCHTransmitter, PUSCHReceiver\n",
    "from sionna.utils import compute_ber, ebnodb2no, PlotBER\n",
    "from sionna.ofdm import KBestDetector, LinearDetector\n",
    "from sionna.mimo import StreamManagement"
   ]
  },
  {
   "cell_type": "code",
   "execution_count": null,
   "metadata": {},
   "outputs": [],
   "source": [
    "# Load integrated scene\n",
    "scene = load_scene(\"../../scenes/messe_obstacles/Messe.xml\")"
   ]
  },
  {
   "cell_type": "code",
   "execution_count": null,
   "metadata": {},
   "outputs": [],
   "source": [
    "scene.get(\"elm__4\").radio_material = \"itu_concrete\"\n",
    "scene.get(\"elm__5\").radio_material = \"itu_concrete\""
   ]
  },
  {
   "cell_type": "code",
   "execution_count": null,
   "metadata": {},
   "outputs": [],
   "source": [
    "centers = {\"big_hall\":[0, 0, 1.5],\"small_hall\":[-100, 0, 1.5]}"
   ]
  },
  {
   "cell_type": "code",
   "execution_count": null,
   "metadata": {},
   "outputs": [],
   "source": [
    "sampling_frequency = 10e5\n",
    "sample_m = 62.0 / sampling_frequency\n",
    "\n",
    "c0 = sionna.SPEED_OF_LIGHT\n",
    "\n",
    "fc = 3.7e9\n",
    "scene.frequency = fc # in Hz; implicitly updates RadioMaterials\n",
    "\n",
    "scene.synthetic_array = False # If set to False, ray tracing will be done per antenna element (slower for large arrays)"
   ]
  },
  {
   "cell_type": "code",
   "execution_count": null,
   "metadata": {},
   "outputs": [],
   "source": [
    "da = 0.1\n",
    "M = 4\n",
    "N = 4\n",
    "\n",
    "scene._clear()\n",
    "\n",
    "# Configure antenna array for all transmitters\n",
    "scene.tx_array = PlanarArray(num_rows=N,\n",
    "                             num_cols=M,\n",
    "                             vertical_spacing=da,\n",
    "                             horizontal_spacing=da,\n",
    "                             pattern=\"dipole\",\n",
    "                             polarization=\"V\")\n",
    "\n",
    "# Configure antenna array for all receivers\n",
    "scene.rx_array = PlanarArray(num_rows=1,\n",
    "                             num_cols=1,\n",
    "                             vertical_spacing=da,\n",
    "                             horizontal_spacing=da,\n",
    "                             pattern=\"tr38901\",\n",
    "                             polarization=\"V\")\n",
    "                             #polarization=\"cross\")"
   ]
  },
  {
   "cell_type": "code",
   "execution_count": null,
   "metadata": {},
   "outputs": [],
   "source": [
    "transmitters_dipole = [\n",
    "    {\n",
    "        \"name\":\"big_hall\",\n",
    "        \"position\":[0,0,18],\n",
    "        \"orientation\":[0.0, 0.0, 0.0],\n",
    "        \"antenna_type\":\"dipole\"\n",
    "    },\n",
    "    {\n",
    "        \"name\":\"small_hall\",\n",
    "        \"position\":[-100,0,18],\n",
    "        \"orientation\":[0.0, 0.0, 0.0],\n",
    "        \"antenna_type\":\"dipole\"\n",
    "    }\n",
    "]\n",
    "\n",
    "transmitters_half_dipole_front = [\n",
    "    {\n",
    "        \"name\":\"big_hall\",\n",
    "        \"position\":[0,78,18],\n",
    "        \"orientation\":[0.0, 0.0, 0.0],\n",
    "        \"antenna_type\":\"dipole\"\n",
    "    },\n",
    "    {\n",
    "        \"name\":\"small_hall\",\n",
    "        \"position\":[-100,53,18],\n",
    "        \"orientation\":[0.0, 0.0, 0.0],\n",
    "        \"antenna_type\":\"dipole\"\n",
    "    }\n",
    "]\n",
    "\n",
    "transmitters_tr_front = [\n",
    "    {\n",
    "        \"name\":\"big_hall\",\n",
    "        \"position\":[0,78,18],\n",
    "        \"orientation\":tf.Variable([0.0, 0.0, 0.0], dtype=tf.float32),\n",
    "        \"antenna_type\":\"dipole\"\n",
    "    },\n",
    "    {\n",
    "        \"name\":\"small_hall\",\n",
    "        \"position\":[-100,53,18],\n",
    "        \"orientation\":tf.Variable([0.0, 0.0, 0.0], dtype=tf.float32),\n",
    "        \"antenna_type\":\"dipole\"\n",
    "    }\n",
    "]\n",
    "\n",
    "transmitters_tr_sectors = [\n",
    "    {\n",
    "        \"name\":\"big_hall_1\",\n",
    "        \"position\":[0,0,18],\n",
    "        \"orientation\":tf.Variable([0.0, 0.0, 0.0], dtype=tf.float32),\n",
    "        \"antenna_type\":\"dipole\"\n",
    "    },\n",
    "    {\n",
    "        \"name\":\"big_hall_2\",\n",
    "        \"position\":[0,0,18],\n",
    "        \"orientation\":tf.Variable([0.0, 0.0, 0.0], dtype=tf.float32),\n",
    "        \"antenna_type\":\"dipole\"\n",
    "    },\n",
    "    {\n",
    "        \"name\":\"big_hall_3\",\n",
    "        \"position\":[0,0,18],\n",
    "        \"orientation\":tf.Variable([0.0, 0.0, 0.0], dtype=tf.float32),\n",
    "        \"antenna_type\":\"dipole\"\n",
    "    },\n",
    "    {\n",
    "        \"name\":\"small_hall_1\",\n",
    "        \"position\":[-100,0,18],\n",
    "        \"orientation\":tf.Variable([0.0, 0.0, 0.0], dtype=tf.float32),\n",
    "        \"antenna_type\":\"dipole\"\n",
    "    },\n",
    "    {\n",
    "        \"name\":\"small_hall_2\",\n",
    "        \"position\":[-100,0,18],\n",
    "        \"orientation\":tf.Variable([0.0, 0.0, 0.0], dtype=tf.float32),\n",
    "        \"antenna_type\":\"dipole\"\n",
    "    },\n",
    "    {\n",
    "        \"name\":\"small_hall_3\",\n",
    "        \"position\":[-100,0,18],\n",
    "        \"orientation\":tf.Variable([0.0, 0.0, 0.0], dtype=tf.float32),\n",
    "        \"antenna_type\":\"dipole\"\n",
    "    }\n",
    "]"
   ]
  },
  {
   "cell_type": "code",
   "execution_count": null,
   "metadata": {},
   "outputs": [],
   "source": [
    "for i in range(len(transmitters_half_dipole_front)):\n",
    "    tx = Transmitter(name=transmitters_half_dipole_front[i][\"name\"],\n",
    "                 position=transmitters_half_dipole_front[i][\"position\"],\n",
    "                 orientation=transmitters_half_dipole_front[i][\"orientation\"])\n",
    "\n",
    "    scene.add(tx)\n",
    "    print(transmitters_half_dipole_front[i][\"name\"])\n"
   ]
  },
  {
   "cell_type": "code",
   "execution_count": null,
   "metadata": {},
   "outputs": [],
   "source": [
    "import numpy as np\n",
    "import tensorflow as tf\n",
    "\n",
    "# Configure an SGD optimizer\n",
    "optimizer = tf.keras.optimizers.legacy.RMSprop(0.1)\n",
    "\n",
    "# Number of training steps\n",
    "num_steps = 11\n",
    "\n",
    "# Weighting factors for the loss terms\n",
    "weight_sinr = 1\n",
    "weight_coverage = 1\n",
    "\n",
    "def train_step():\n",
    "    \"\"\"A single training step\"\"\"\n",
    "    with tf.GradientTape() as tape:\n",
    "        print(tape.watched_variables())\n",
    "        \n",
    "        # Compute coverage of the target area\n",
    "        target_cm = scene.coverage_map(num_samples=1e5, diffraction=False, scattering=False,\n",
    "                            cm_center=[-50, 0, 1.5],\n",
    "                            cm_orientation=[0,0,0],\n",
    "                            cm_size=[400,200],\n",
    "                            cm_cell_size=[1,1])\n",
    "        \n",
    "        # Convert to tf.float32 to ensure dtype consistency\n",
    "        target_cm_tensor = target_cm.as_tensor()\n",
    "        \n",
    "        # Compute coverage rate\n",
    "        scaling = 1e12\n",
    "        rate = tf.reduce_mean(tf.math.log(1. + target_cm_tensor * scaling))\n",
    "        coverage_loss = -rate  # Note the negative sign to make it a loss\n",
    "        # Combine SINR loss and coverage loss\n",
    "        loss = weight_coverage * coverage_loss\n",
    "    # Compute gradients and apply through the optimizer\n",
    "    grads = tape.gradient(loss, tape.watched_variables())\n",
    "    optimizer.apply_gradients(zip(grads, tape.watched_variables()))\n",
    "    return loss\n",
    "\n",
    "for step in range(num_steps):\n",
    "    loss = train_step()\n",
    "    print(f\"Training step {step} - Loss: {loss.numpy():.2E} - tx orientation: {scene.transmitters['big_hall'].orientation.numpy()}\", end='\\r')\n",
    "    \n"
   ]
  },
  {
   "cell_type": "code",
   "execution_count": null,
   "metadata": {},
   "outputs": [],
   "source": [
    "cm_new = scene.coverage_map(cm_center=[-50, 0, 1.5],\n",
    "                            cm_orientation=[0,0,0],\n",
    "                            cm_size=[400,200],\n",
    "                            cm_cell_size=[0.5,0.5])"
   ]
  },
  {
   "cell_type": "code",
   "execution_count": null,
   "metadata": {},
   "outputs": [],
   "source": [
    "cm_new.show(tx=0);\n",
    "cm_new.show(tx=1);"
   ]
  },
  {
   "cell_type": "code",
   "execution_count": null,
   "metadata": {},
   "outputs": [],
   "source": [
    "scene.preview(coverage_map=cm_new, cm_tx=0, clip_at=18)"
   ]
  },
  {
   "cell_type": "code",
   "execution_count": null,
   "metadata": {},
   "outputs": [],
   "source": [
    "import numpy as np\n",
    "\n",
    "def calculate_sinr_matrix(signal_matrices, noise_power):\n",
    "    # Convert the noise power to linear scale\n",
    "    noise_linear = 10 ** (noise_power / 10)\n",
    "\n",
    "    # Number of matrices (4 antennas) and dimensions of the matrix\n",
    "    num_antennas = len(signal_matrices)\n",
    "    rows, cols = signal_matrices[0].shape\n",
    "\n",
    "    # Initialize the SINR matrix with zeros\n",
    "    sinr_matrix = np.zeros((rows, cols))\n",
    "\n",
    "    # Optionally store the index of the reference signal (strongest signal) for each point\n",
    "    reference_signal_indices = np.zeros((rows, cols), dtype=int)\n",
    "\n",
    "    # Loop through each point in the matrices\n",
    "    for i in range(rows):\n",
    "        for j in range(cols):\n",
    "            # Extract the signal power values at this point from all antennas\n",
    "            signal_values = [signal_matrices[k][i, j] for k in range(num_antennas)]\n",
    "\n",
    "            # Convert signal values from dB to linear scale\n",
    "            signal_values_linear = [10 ** (sv / 10) for sv in signal_values]\n",
    "\n",
    "            # Find the reference signal (the strongest signal)\n",
    "            reference_signal_linear = max(signal_values_linear)\n",
    "            reference_signal_index = signal_values_linear.index(reference_signal_linear)\n",
    "\n",
    "            # Store the index of the reference signal (optional)\n",
    "            reference_signal_indices[i, j] = reference_signal_index\n",
    "\n",
    "            # Calculate interference (sum of all signals except the reference signal)\n",
    "            interference_linear = sum(signal_values_linear) - reference_signal_linear\n",
    "\n",
    "            # Calculate SINR at this point\n",
    "            sinr_linear = reference_signal_linear / (interference_linear+noise_linear)\n",
    "\n",
    "            sinr_val = 10 * np.log10(sinr_linear)\n",
    "            if sinr_val > 30:\n",
    "                sinr_matrix[i, j] = 30\n",
    "            elif sinr_val < 0: sinr_matrix[i, j] = -np.inf\n",
    "            else: sinr_matrix[i, j] = 10 * np.log10(sinr_linear)\n",
    "\n",
    "\n",
    "    return sinr_matrix, reference_signal_indices\n",
    "\n",
    "sinr_matrix, _= calculate_sinr_matrix([cm_0,cm_1,cm_2,cm_3,cm_4,cm_5,cm_6], -999999999999999999)\n"
   ]
  },
  {
   "cell_type": "code",
   "execution_count": null,
   "metadata": {},
   "outputs": [],
   "source": [
    "import matplotlib.pyplot as plt\n",
    "import seaborn as sns\n",
    "from matplotlib.colors import LinearSegmentedColormap, BoundaryNorm\n",
    "colors = [(0.9, 0, 0), (1, 1, 0), (0.3, 0.8, 0)]  # R -> G -> B\n",
    "n_bins = [100]  # Discretizes the interpolation into bins\n",
    "cmap_name = 'my_list'\n",
    "fig, ax = plt.subplots(1, 1)\n",
    "cm = LinearSegmentedColormap.from_list(\n",
    "    cmap_name, colors, N=100)\n",
    "# Remove ticks from the x and y axes\n",
    "ax.set_xticks([])\n",
    "ax.set_yticks([])\n",
    "# Fewer bins will result in \"coarser\" colomap interpolation\n",
    "im = ax.imshow(sinr_matrix, interpolation='nearest', origin='lower', cmap=cm, vmin=-5, vmax=30)\n",
    "fig.colorbar(im, ax=ax, orientation='horizontal')\n",
    "# fig.axes[0].scatter(*cm_new._tx_pos[0], marker='.', c='r')\n",
    "# fig.axes[0].scatter(*cm_new._tx_pos[1], marker='.', c='r')\n",
    "# fig.axes[0].scatter(*cm_new._tx_pos[2], marker='.', c='r')\n",
    "# fig.axes[0].scatter(*cm_new._tx_pos[3], marker='.', c='r')\n",
    "# fig.axes[0].scatter(*cm_new._tx_pos[4], marker='.', c='r')\n",
    "# fig.axes[0].scatter(*cm_new._tx_pos[5], marker='.', c='r')\n",
    "# fig.axes[0].scatter(*cm_new._tx_pos[6], marker='.', c='r')\n",
    "plt.savefig(\"sinr.png\", dpi=300)"
   ]
  },
  {
   "cell_type": "code",
   "execution_count": null,
   "metadata": {},
   "outputs": [],
   "source": [
    "import numpy as np\n",
    "\n",
    "# Define the threshold\n",
    "T = 13\n",
    "\n",
    "# Create binary matrix B\n",
    "B = (sinr_matrix > T).astype(np.float32)\n",
    "\n",
    "sns.heatmap(B)\n",
    "plt.show()"
   ]
  },
  {
   "cell_type": "code",
   "execution_count": null,
   "metadata": {},
   "outputs": [],
   "source": [
    "counter = 0\n",
    "summ = []\n",
    "for i,row in enumerate(sinr_matrix):\n",
    "    if i < 300 and i > 180:\n",
    "        for j,item in enumerate(row):\n",
    "            if j < 580 and j > 140:\n",
    "                if item > 0.5:\n",
    "                    summ.append(item)\n",
    "                if item > 0.5 and item < 5: print(item,i,j)\n",
    "            \n",
    "            \n",
    "\n",
    "print(min(summ),max(summ),np.mean(summ))"
   ]
  },
  {
   "cell_type": "code",
   "execution_count": null,
   "metadata": {},
   "outputs": [],
   "source": [
    "print(sinr_matrix.min(), sinr_matrix.max())"
   ]
  },
  {
   "cell_type": "code",
   "execution_count": null,
   "metadata": {},
   "outputs": [],
   "source": [
    "from matplotlib.colors import LinearSegmentedColormap, BoundaryNorm\n",
    "colors = [(0.9, 0, 0), (1, 1, 0), (0.3, 0.8, 0)]  # R -> G -> B\n",
    "n_bins = [100]  # Discretizes the interpolation into bins\n",
    "cmap_name = 'my_list'\n",
    "fig, ax = plt.subplots(1, 1)\n",
    "cm = LinearSegmentedColormap.from_list(\n",
    "    cmap_name, colors, N=100)\n",
    "# Remove ticks from the x and y axes\n",
    "ax.set_xticks([])\n",
    "ax.set_yticks([])\n",
    "# Fewer bins will result in \"coarser\" colomap interpolation\n",
    "im = ax.imshow(sinr_matrix, interpolation='nearest', origin='lower', cmap=cm)\n",
    "fig.colorbar(im, ax=ax, orientation='horizontal')"
   ]
  },
  {
   "cell_type": "code",
   "execution_count": null,
   "metadata": {},
   "outputs": [],
   "source": []
  },
  {
   "cell_type": "code",
   "execution_count": null,
   "metadata": {},
   "outputs": [],
   "source": [
    "th_norm"
   ]
  },
  {
   "cell_type": "code",
   "execution_count": null,
   "metadata": {},
   "outputs": [],
   "source": [
    "cdict"
   ]
  },
  {
   "cell_type": "code",
   "execution_count": null,
   "metadata": {},
   "outputs": [],
   "source": []
  },
  {
   "cell_type": "code",
   "execution_count": null,
   "metadata": {},
   "outputs": [],
   "source": [
    "def NonLinCdict(steps, hexcol_array):\n",
    "    cdict = {'red': (), 'green': (), 'blue': ()}\n",
    "    for s, hexcol in zip(steps, hexcol_array):\n",
    "        rgb =matplotlib.colors.hex2color(hexcol)\n",
    "        cdict['red'] = cdict['red'] + ((s, rgb[0], rgb[0]),)\n",
    "        cdict['green'] = cdict['green'] + ((s, rgb[1], rgb[1]),)\n",
    "        cdict['blue'] = cdict['blue'] + ((s, rgb[2], rgb[2]),)\n",
    "    return cdict\n",
    "\n",
    "hc = ['#e5e5ff', '#acacdf', '#7272bf', '#39399f', '#000080']\n",
    "th = [0, 0.1, 0.5, 0.9, 1]\n",
    "\n",
    "cdict = NonLinCdict(th, hc)\n",
    "cdict"
   ]
  },
  {
   "cell_type": "code",
   "execution_count": null,
   "metadata": {},
   "outputs": [],
   "source": [
    "from sionna.rt.utils import r_hat, rotation_matrix, theta_phi_from_unit_vec, expand_to_rank\n",
    "import tensorflow as tf\n",
    "import numpy as np"
   ]
  },
  {
   "cell_type": "code",
   "execution_count": null,
   "metadata": {},
   "outputs": [],
   "source": [
    "# Convert the list to a NumPy array\n",
    "angles = np.array([-2.80684, 0.36026, 0.027153])\n",
    "\n",
    "# Now, pass the NumPy array to the rotation_matrix function\n",
    "rot_mat = tf.transpose(rotation_matrix(angles))"
   ]
  },
  {
   "cell_type": "code",
   "execution_count": null,
   "metadata": {},
   "outputs": [],
   "source": [
    "np.arctan2(rot_mat[1][1],rot_mat[0][1]) * 180 / 3.14"
   ]
  },
  {
   "cell_type": "code",
   "execution_count": null,
   "metadata": {},
   "outputs": [],
   "source": [
    "np.arcsin(-rot_mat[2][1]) * 180 / 3.14"
   ]
  },
  {
   "cell_type": "code",
   "execution_count": null,
   "metadata": {},
   "outputs": [],
   "source": []
  }
 ],
 "metadata": {
  "kernelspec": {
   "display_name": "insioor-rf-design-env",
   "language": "python",
   "name": "python3"
  },
  "language_info": {
   "codemirror_mode": {
    "name": "ipython",
    "version": 3
   },
   "file_extension": ".py",
   "mimetype": "text/x-python",
   "name": "python",
   "nbconvert_exporter": "python",
   "pygments_lexer": "ipython3",
   "version": "3.9.18"
  }
 },
 "nbformat": 4,
 "nbformat_minor": 2
}
