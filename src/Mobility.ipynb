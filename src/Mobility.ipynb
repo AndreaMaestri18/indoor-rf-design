{
 "cells": [
  {
   "cell_type": "markdown",
   "id": "5cd9d8c9-4fa5-4205-8c06-a325e33c950b",
   "metadata": {},
   "source": [
    "# Learning of the Transmitter Orientation via Gradient Descent"
   ]
  },
  {
   "cell_type": "markdown",
   "id": "50e3aa6b-e462-43a3-b939-bb614978dd4b",
   "metadata": {},
   "source": [
    "This notebook reproduces the results for the example application \"Optimization of transmitter orientation\" in the paper [Sionna RT: Differentiable Ray Tracing for Radio Propagation Modeling](https://arxiv.org).\n",
    "\n",
    "It requires [Sionna](https://github.com/NVlabs/sionna) v0.16 or later.\n"
   ]
  },
  {
   "cell_type": "markdown",
   "id": "e4409cb8-84be-4a9c-b989-1280367d4ebc",
   "metadata": {
    "tags": []
   },
   "source": [
    "## Imports and GPU Configuration"
   ]
  },
  {
   "cell_type": "code",
   "execution_count": null,
   "id": "f9c35642-0e46-4c53-8d1d-78dc655b57e6",
   "metadata": {
    "tags": []
   },
   "outputs": [],
   "source": [
    "# Set some environment variables\n",
    "import os\n",
    "gpu_num = \"\" # GPU to be used. Use \"\" to use the CPU\n",
    "os.environ['TF_CPP_MIN_LOG_LEVEL'] = '3' # Suppress some TF warnings\n",
    "os.environ[\"CUDA_VISIBLE_DEVICES\"] = f\"{gpu_num}\"\n",
    "\n",
    "# Import Sionna\n",
    "try:\n",
    "    import sionna\n",
    "except ImportError as e:\n",
    "    # Install Sionna if package is not already installed\n",
    "    os.system(\"pip install sionna\")\n",
    "    import sionna\n",
    "\n",
    "# Configure GPU\n",
    "import tensorflow as tf\n",
    "# gpus = tf.config.list_physical_devices('GPU')\n",
    "# if gpus:\n",
    "#     try:\n",
    "#         tf.config.experimental.set_memory_growth(gpus[0], True)\n",
    "#     except RuntimeError as e:\n",
    "#         print(e)\n",
    "\n",
    "# Avoid warnings from TensorFlow\n",
    "import warnings\n",
    "tf.get_logger().setLevel('ERROR')\n",
    "warnings.filterwarnings('ignore')\n",
    "\n",
    "# Other imports\n",
    "import numpy as np\n",
    "%matplotlib inline\n",
    "import matplotlib.pyplot as plt\n",
    "import matplotlib.patches as patches\n",
    "\n",
    "from sionna.rt import load_scene, PlanarArray, Transmitter, Receiver, Camera\n",
    "\n",
    "# Fix the seed for reproducible results\n",
    "tf.random.set_seed(1)\n",
    "\n",
    "pre_optimisation_cm = []\n",
    "post_optimisation_cm = []"
   ]
  },
  {
   "cell_type": "markdown",
   "id": "6d0cf3c3-cdf9-4a0f-9b01-f0b6a1f2d40d",
   "metadata": {
    "tags": []
   },
   "source": [
    "## Configure the Scene and Generate Reference Data\n",
    "\n",
    "In this example, we load the scene \"etoile\" which is already available in Sionna and then place a single transmitter **with trainable orientation** within the scene.\n"
   ]
  },
  {
   "cell_type": "code",
   "execution_count": null,
   "id": "751a153e-aec0-4694-816e-73eba10d5690",
   "metadata": {
    "tags": []
   },
   "outputs": [],
   "source": [
    "# Load the scene\n",
    "#scene = load_scene(sionna.rt.scene.etoile)\n",
    "# Load integrated scene\n",
    "scene = load_scene(\"/Users/andreamaestri/Desktop/tectwin/GEO/geoloc-rf/scenes/outdoor_linkhall_mockup/IIS_DJI.xml\") \n",
    "scene.frequency = 3.5e9\n",
    "# Set the scattering coefficient of the radio material in the scene\n",
    "# to a non-zero value to enable scattering"
   ]
  },
  {
   "cell_type": "code",
   "execution_count": null,
   "id": "c6987c26",
   "metadata": {},
   "outputs": [],
   "source": [
    "scene._scene_params"
   ]
  },
  {
   "cell_type": "code",
   "execution_count": null,
   "id": "9a9105f8",
   "metadata": {},
   "outputs": [],
   "source": [
    "scene.get(\"elm__3\").radio_material = \"itu_concrete\""
   ]
  },
  {
   "cell_type": "code",
   "execution_count": null,
   "id": "f72482cc",
   "metadata": {},
   "outputs": [],
   "source": [
    "scene._clear()"
   ]
  },
  {
   "cell_type": "code",
   "execution_count": null,
   "id": "86d784fe",
   "metadata": {},
   "outputs": [],
   "source": [
    "# Configure the transmit array\n",
    "scene.tx_array = PlanarArray(num_rows=1, num_cols=16,\n",
    "                             vertical_spacing=0.5,\n",
    "                             horizontal_spacing=0.5,\n",
    "                             pattern=\"tr38901\",\n",
    "                             polarization=\"V\",\n",
    "                             polarization_model=2)\n",
    "\n",
    "# Configure the receive array (use to compute the coverage map)\n",
    "scene.rx_array = PlanarArray(num_rows=1, num_cols=1,\n",
    "                             vertical_spacing=0.5,\n",
    "                             horizontal_spacing=0.5,\n",
    "                             pattern=\"iso\",\n",
    "                             polarization=\"V\",\n",
    "                             polarization_model=2)\n",
    "\n",
    "# Create a transmitter and add it to the scene\n",
    "#transmitter_coordinates = [[-37.47,-46.16,6],[-30.13,-27.22,6],[-30.2714, -28,6],[54.74, -99.,6], [68.12, -82.21, 6], [13.37, -43.53,6],[37.13, -36.03,6]]\n",
    "#transmitter_coordinates = [[-8.05184,23.06,6.91],[11.39,16.05,0.9185],[31.43, 30.23, 6.93]]\n",
    "transmitter_coordinates = [np.array([-4.18, 38.12, 16]), np.array([22.96, 16.6, 16]), np.array([43.58, -1.604, 16])]\n",
    "transmitter_coordinates = [np.array([-4.18, 38.12, 16]), np.array([43.58, -1.604, 16])]\n",
    "transmitter_coordinates = [np.array([0, 0, 25]), np.array([0, 20, 25])]\n",
    "\n",
    "\n",
    "tx = Transmitter(f\"tx0\", position=transmitter_coordinates[0],\n",
    "                    orientation=tf.Variable([0.0, 0.0, 0.0], tf.float32)) # Trainable orientation\n",
    "\n",
    "scene.add(tx)\n",
    "tx = Transmitter(f\"tx1\", position=transmitter_coordinates[1],\n",
    "                    orientation=tf.Variable([0.0, 0.0, 0.0], tf.float32)) # Trainable orientation\n",
    "\n",
    "scene.add(tx)\n",
    "\n",
    "scene.add(Receiver(\"rx\", position=[30, -30, 8]))\n",
    "# tx = Transmitter(f\"tx2\", position=transmitter_coordinates[2],\n",
    "#                     orientation=tf.Variable([0.0, 0.0, 0.0], tf.float32)) # Trainable orientation\n",
    "\n",
    "# scene.add(tx)\n",
    "\n",
    "# Render the scene\n",
    "# The transmitter is indicated by a blue ball\n",
    "# cam = Camera(\"my_cam\", position=(0,0,15))\n",
    "# scene.add(cam)\n",
    "# cam.look_at([0,0,0])\n",
    "# scene.render(cam);"
   ]
  },
  {
   "cell_type": "code",
   "execution_count": null,
   "id": "d00c5633",
   "metadata": {},
   "outputs": [],
   "source": [
    "scene.add(Camera(\"cam\", position=[100,-100,130], look_at=[0, 0, 0]))"
   ]
  },
  {
   "cell_type": "code",
   "execution_count": null,
   "id": "0d86e83d",
   "metadata": {},
   "outputs": [],
   "source": [
    "scene.render(camera=\"cam\", num_samples=256);"
   ]
  },
  {
   "cell_type": "markdown",
   "id": "188f328d-30aa-42d8-9195-403d5400bb70",
   "metadata": {},
   "source": [
    "Next, we will compute and show a coverage map for the transmitter `\"tx\"`. The coverage map corresponds to the average received power into small rectangular regions (or *cells*) of a plane, which, by default, is parallel to the XY plane, and sized such that it covers the entire scene with an elevation of $1.5$ m.\n",
    "\n",
    "The coverage map is divided into cells of size ``cm_cell_size`` (in meters). The smaller the size of the cells, the more precise the coverage map."
   ]
  },
  {
   "cell_type": "code",
   "execution_count": null,
   "id": "0e0e00e8-85f1-412c-86bc-656ea5c8b274",
   "metadata": {
    "tags": []
   },
   "outputs": [],
   "source": [
    "displacement_vec = [2, 0, 0]\n",
    "num_displacements = 10\n",
    "for i in range(num_displacements+1):\n",
    "\n",
    "    paths = scene.compute_paths(max_depth=5)\n",
    "    cm = scene.coverage_map(num_samples=10e5,\n",
    "                            max_depth=5,\n",
    "                            diffraction=True,\n",
    "                            cm_center=[0,0,5],\n",
    "                            cm_orientation=[0,0,0],\n",
    "                            cm_size=[186,186],\n",
    "                            cm_cell_size=[1,1])\n",
    "    scene.render_to_file(\"cam\", f\"frame_{i}.png\" , coverage_map=cm, paths=paths, num_samples=512)\n",
    "\n",
    "    # Move TX to next position\n",
    "    scene.get(\"rx\").position -= displacement_vec"
   ]
  },
  {
   "cell_type": "code",
   "execution_count": null,
   "id": "c2e12a89",
   "metadata": {},
   "outputs": [],
   "source": []
  }
 ],
 "metadata": {
  "kernelspec": {
   "display_name": "Python 3 (ipykernel)",
   "language": "python",
   "name": "python3"
  },
  "language_info": {
   "codemirror_mode": {
    "name": "ipython",
    "version": 3
   },
   "file_extension": ".py",
   "mimetype": "text/x-python",
   "name": "python",
   "nbconvert_exporter": "python",
   "pygments_lexer": "ipython3",
   "version": "3.9.18"
  }
 },
 "nbformat": 4,
 "nbformat_minor": 5
}
