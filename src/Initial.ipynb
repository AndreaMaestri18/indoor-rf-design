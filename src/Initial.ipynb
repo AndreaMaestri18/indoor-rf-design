{
 "cells": [
  {
   "cell_type": "code",
   "execution_count": null,
   "metadata": {},
   "outputs": [],
   "source": [
    "import os\n",
    "gpu_num = \"\" # Use \"\" to use the CPU\n",
    "os.environ[\"CUDA_VISIBLE_DEVICES\"] = f\"{gpu_num}\"\n",
    "os.environ['TF_CPP_MIN_LOG_LEVEL'] = '3'\n",
    "os.environ[\"DRJIT_LIBLLVM_PATH\"]=\"/opt/homebrew/opt/llvm@16/lib/libLLVM.dylib\""
   ]
  },
  {
   "cell_type": "code",
   "execution_count": null,
   "metadata": {},
   "outputs": [],
   "source": [
    "resolution = [480,320] # increase for higher quality of renderings\n",
    "\n",
    "import sionna\n",
    "import tensorflow as tf\n",
    "\n",
    "%matplotlib inline\n",
    "import matplotlib.pyplot as plt\n",
    "import numpy as np\n",
    "\n",
    "# Import Sionna RT components\n",
    "from sionna.rt import load_scene, Transmitter, Receiver, PlanarArray\n",
    "\n",
    "# random seed fixed for repeatability\n",
    "tf.random.set_seed(1)"
   ]
  },
  {
   "cell_type": "code",
   "execution_count": null,
   "metadata": {},
   "outputs": [],
   "source": [
    "!pwd"
   ]
  },
  {
   "cell_type": "code",
   "execution_count": null,
   "metadata": {},
   "outputs": [],
   "source": [
    "# Load integrated scene\n",
    "scene = load_scene(\"/Users/andreamaestri/Desktop/tectwin/GEO/geoloc-rf/scenes/dusseldorf_tile_densification/dusseldorf_tile.xml\") "
   ]
  },
  {
   "cell_type": "code",
   "execution_count": null,
   "metadata": {},
   "outputs": [],
   "source": [
    "# define TX and RX antennas and RF information\n",
    "\n",
    "# Set the scattering coefficient of the radio material in the scene\n",
    "# to a non-zero value to enable scattering\n",
    "for mat in scene.radio_materials.values():\n",
    "    mat.scattering_coefficient = 1./tf.sqrt(3.)\n",
    "\n",
    "# Configure antenna array for all transmitters\n",
    "scene.tx_array = PlanarArray(num_rows=1,\n",
    "                             num_cols=16,\n",
    "                             vertical_spacing=0.5,\n",
    "                             horizontal_spacing=0.5,\n",
    "                             pattern=\"tr38901\",\n",
    "                             polarization=\"V\",\n",
    "                             polarization_model=2)\n",
    "\n",
    "# Configure antenna array for all receivers\n",
    "scene.rx_array = PlanarArray(num_rows=1,\n",
    "                             num_cols=1,\n",
    "                             vertical_spacing=0.5,\n",
    "                             horizontal_spacing=0.5,\n",
    "                             pattern=\"dipole\",\n",
    "                             polarization=\"V\",\n",
    "                             polarization_model=2)\n",
    "\n",
    "scene.frequency = 3.5e9 # set the carrier frequency, 3.5 GHz is the default\n",
    "cm_cell_size = np.array([1,1]) # Each cell is 0.5mx0.5m "
   ]
  },
  {
   "cell_type": "code",
   "execution_count": null,
   "metadata": {},
   "outputs": [],
   "source": [
    "#place TX on top of building (with 8 meters extra)\n",
    "try:\n",
    "    scene.remove(\"tx\")\n",
    "except:\n",
    "    print(\"no tx\")\n",
    "tx = Transmitter(\"tx\", position=[5, -67, 16],\n",
    "                orientation=[0.0,0.0,0.0])\n",
    "\n",
    "tx.look_at([ 30, -27,  0])\n",
    "\n",
    "scene.add(tx)"
   ]
  },
  {
   "cell_type": "code",
   "execution_count": null,
   "metadata": {},
   "outputs": [],
   "source": [
    "scene.preview()"
   ]
  },
  {
   "cell_type": "code",
   "execution_count": null,
   "metadata": {},
   "outputs": [],
   "source": [
    "for i in range(10):\n",
    "    print(i)\n",
    "    cm = scene.coverage_map(num_samples=10e5, # Reduce if your GPU does not have enough memory\n",
    "                        cm_cell_size=cm_cell_size,\n",
    "                        diffraction=True, scattering=False,  # Enables diffraction and scattering in addition to reflection and LoS\n",
    "                        check_scene=False,\n",
    "                        ) # Don't check the scene prior to compute to speed things up)"
   ]
  },
  {
   "cell_type": "code",
   "execution_count": null,
   "metadata": {},
   "outputs": [],
   "source": [
    "scene.preview(coverage_map=cm)"
   ]
  },
  {
   "cell_type": "code",
   "execution_count": null,
   "metadata": {},
   "outputs": [],
   "source": [
    "point_measuraments = []"
   ]
  },
  {
   "cell_type": "code",
   "execution_count": null,
   "metadata": {},
   "outputs": [],
   "source": [
    "counter = 0\n",
    "for i in cm.as_tensor()[0].numpy():\n",
    "    for j in i:\n",
    "        if j == 0:\n",
    "            counter += 1\n",
    "\n",
    "counter"
   ]
  },
  {
   "cell_type": "code",
   "execution_count": null,
   "metadata": {},
   "outputs": [],
   "source": [
    "import seaborn as sns\n",
    "map = 10.*np.log10(cm.as_tensor()[0].numpy().copy())\n",
    "sns.heatmap(map,vmin=-200,vmax=10)\n",
    "plt.show()"
   ]
  },
  {
   "cell_type": "code",
   "execution_count": null,
   "metadata": {},
   "outputs": [],
   "source": [
    "#place TX on top of building (with 8 meters extra)\n",
    "try:\n",
    "    scene.remove(\"tx\")\n",
    "except:\n",
    "    print(\"no tx\")\n",
    "tx = Transmitter(\"tx1\", position=[5, -30, 16],\n",
    "                orientation=[0.0,0.0,0.0])\n",
    "\n",
    "tx.look_at([ 30, 27,  0])\n",
    "\n",
    "\n",
    "scene.add(tx)"
   ]
  },
  {
   "cell_type": "code",
   "execution_count": null,
   "metadata": {},
   "outputs": [],
   "source": [
    "cm = scene.coverage_map(num_samples=10e6, # Reduce if your GPU does not have enough memory\n",
    "                        cm_cell_size=cm_cell_size,\n",
    "                        diffraction=True, scattering=True,  # Enables diffraction and scattering in addition to reflection and LoS\n",
    "                        check_scene=False,\n",
    "                        ) # Don't check the scene prior to compute to speed things up)"
   ]
  },
  {
   "cell_type": "code",
   "execution_count": null,
   "metadata": {},
   "outputs": [],
   "source": [
    "#map2 = 10.*np.log10(cm.as_tensor()[0].numpy())\n",
    "map2 = 10.*np.log10(cm.as_tensor()[0].numpy())\n",
    "print(map2[343][242])\n",
    "point_measuraments.append(map2[343][242])\n",
    "sns.heatmap(map2,vmin=-200,vmax=-20)\n",
    "plt.show()"
   ]
  },
  {
   "cell_type": "code",
   "execution_count": null,
   "metadata": {},
   "outputs": [],
   "source": [
    "#place TX on top of building (with 8 meters extra)\n",
    "try:\n",
    "    scene.remove(\"tx\")\n",
    "except:\n",
    "    print(\"no tx\")\n",
    "tx = Transmitter(\"tx\", position=[8, -70, 20],\n",
    "                orientation=[0.0,0.0,0.0])\n",
    "\n",
    "tx.look_at([ 30, -70,  0])\n",
    "\n",
    "scene.add(tx)"
   ]
  },
  {
   "cell_type": "code",
   "execution_count": null,
   "metadata": {},
   "outputs": [],
   "source": [
    "cm = scene.coverage_map(num_samples=10e6, # Reduce if your GPU does not have enough memory\n",
    "                        cm_cell_size=cm_cell_size,\n",
    "                        diffraction=True, scattering=True,  # Enables diffraction and scattering in addition to reflection and LoS\n",
    "                        check_scene=False,\n",
    "                        ) # Don't check the scene prior to compute to speed things up)"
   ]
  },
  {
   "cell_type": "code",
   "execution_count": null,
   "metadata": {},
   "outputs": [],
   "source": [
    "map3 = 10.*np.log10(cm.as_tensor()[0].numpy())\n",
    "print(map3[343][242])\n",
    "point_measuraments.append(map3[343][242])\n",
    "sns.heatmap(map3,vmin=-200,vmax=-20)\n",
    "plt.show()"
   ]
  },
  {
   "cell_type": "code",
   "execution_count": null,
   "metadata": {},
   "outputs": [],
   "source": [
    "#place TX on top of building (with 8 meters extra)\n",
    "try:\n",
    "    scene.remove(\"tx\")\n",
    "except:\n",
    "    print(\"no tx\")\n",
    "tx = Transmitter(\"tx\", position=[-58, 55, 16],\n",
    "                orientation=[0.0,0.0,0.0])\n",
    "\n",
    "tx.look_at([ 0, 55,  0])\n",
    "\n",
    "scene.add(tx)\n",
    "cm = scene.coverage_map(num_samples=10e6, # Reduce if your GPU does not have enough memory\n",
    "                        cm_cell_size=cm_cell_size,\n",
    "                        diffraction=True, scattering=True,  # Enables diffraction and scattering in addition to reflection and LoS\n",
    "                        check_scene=False,\n",
    "                        ) # Don't check the scene prior to compute to speed things up)\n",
    "scene.preview(coverage_map=cm)\n",
    "map4 = 10.*np.log10(cm.as_tensor()[0].numpy())\n",
    "print(map4[343][242])\n",
    "point_measuraments.append(map4[343][242])\n",
    "sns.heatmap(map4,vmin=-200,vmax=-20)\n",
    "plt.show()"
   ]
  },
  {
   "cell_type": "code",
   "execution_count": null,
   "metadata": {},
   "outputs": [],
   "source": [
    "point_measuraments"
   ]
  },
  {
   "cell_type": "code",
   "execution_count": null,
   "metadata": {},
   "outputs": [],
   "source": [
    "maps = [map, map2, map3,map4]"
   ]
  },
  {
   "cell_type": "code",
   "execution_count": null,
   "metadata": {},
   "outputs": [],
   "source": [
    "import scipy.stats\n",
    "def map_to_probability(signal, map):\n",
    "    prob_map = np.zeros(np.shape(map))\n",
    "    nd = scipy.stats.norm(signal,np.sqrt(np.abs(signal)))\n",
    "    for idx,element in enumerate(map):\n",
    "        for idx2,j in enumerate(element):\n",
    "            prob_map[idx][idx2] = nd.pdf(j)\n",
    "\n",
    "    return prob_map\n"
   ]
  },
  {
   "cell_type": "code",
   "execution_count": null,
   "metadata": {},
   "outputs": [],
   "source": [
    "prob = map_to_probability(point_measuraments[0],maps[0])\n",
    "prob2 = map_to_probability(point_measuraments[1],maps[1])\n",
    "prob3 = map_to_probability(point_measuraments[2],maps[2])\n",
    "prob5 = map_to_probability(point_measuraments[3],maps[3])"
   ]
  },
  {
   "cell_type": "code",
   "execution_count": null,
   "metadata": {},
   "outputs": [],
   "source": [
    "print(prob5[343][242], np.max(prob5))\n",
    "print(prob3[343][242], np.max(prob3))\n",
    "print(prob2[343][242], np.max(prob2))\n",
    "print(prob[343][242], np.max(prob))\n"
   ]
  },
  {
   "cell_type": "code",
   "execution_count": null,
   "metadata": {},
   "outputs": [],
   "source": [
    "f, (ax1, ax2,ax3,ax5) = plt.subplots(1, 4,figsize=(20, 5))\n",
    "f.suptitle(\"Probability for single antennas\")\n",
    "sns.heatmap(prob,vmin=0, vmax=0.07, ax=ax1, cmap=\"viridis\")\n",
    "sns.heatmap(prob2,vmin=0, vmax=0.07, ax=ax2,cmap=\"viridis\")\n",
    "sns.heatmap(prob3,vmin=0, vmax=0.07, ax=ax3, cmap=\"viridis\")\n",
    "sns.heatmap(prob5,vmin=0, vmax=0.07, ax=ax5, cmap=\"viridis\")\n",
    "plt.show()"
   ]
  },
  {
   "cell_type": "code",
   "execution_count": null,
   "metadata": {},
   "outputs": [],
   "source": [
    "prob_final = prob2 * prob * prob3 * prob5\n",
    "\n",
    "prob_final[343][242]"
   ]
  },
  {
   "cell_type": "code",
   "execution_count": null,
   "metadata": {},
   "outputs": [],
   "source": [
    "sns.heatmap(prob_final)\n",
    "plt.title(\"Location probability\")\n",
    "plt.axvline(242,linewidth=0.7)\n",
    "plt.axhline(343,linewidth=0.7, label=\"real location\")\n",
    "plt.legend()\n",
    "plt.show()"
   ]
  },
  {
   "cell_type": "code",
   "execution_count": null,
   "metadata": {},
   "outputs": [],
   "source": []
  }
 ],
 "metadata": {
  "kernelspec": {
   "display_name": "sionna",
   "language": "python",
   "name": "python3"
  },
  "language_info": {
   "codemirror_mode": {
    "name": "ipython",
    "version": 3
   },
   "file_extension": ".py",
   "mimetype": "text/x-python",
   "name": "python",
   "nbconvert_exporter": "python",
   "pygments_lexer": "ipython3",
   "version": "3.9.18"
  }
 },
 "nbformat": 4,
 "nbformat_minor": 2
}
