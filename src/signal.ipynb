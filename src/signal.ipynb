{
 "cells": [
  {
   "cell_type": "code",
   "execution_count": null,
   "metadata": {},
   "outputs": [],
   "source": [
    "import os\n",
    "gpu_num = \"\" # Use \"\" to use the CPU\n",
    "os.environ[\"CUDA_VISIBLE_DEVICES\"] = f\"{gpu_num}\"\n",
    "os.environ['TF_CPP_MIN_LOG_LEVEL'] = '3'\n",
    "os.environ[\"DRJIT_LIBLLVM_PATH\"]=\"/opt/homebrew/opt/llvm@16/lib/libLLVM.dylib\""
   ]
  },
  {
   "cell_type": "code",
   "execution_count": null,
   "metadata": {},
   "outputs": [],
   "source": [
    "from utils import generate_signal_map,map_to_probability"
   ]
  },
  {
   "cell_type": "code",
   "execution_count": null,
   "metadata": {},
   "outputs": [],
   "source": [
    "percentage = 5e-2"
   ]
  },
  {
   "cell_type": "code",
   "execution_count": null,
   "metadata": {},
   "outputs": [],
   "source": [
    "coordinates = (152,264)"
   ]
  },
  {
   "cell_type": "code",
   "execution_count": null,
   "metadata": {},
   "outputs": [],
   "source": [
    "resolution = [480,320] # increase for higher quality of renderings\n",
    "\n",
    "import sionna\n",
    "import tensorflow as tf\n",
    "\n",
    "%matplotlib inline\n",
    "import matplotlib.pyplot as plt\n",
    "import numpy as np\n",
    "\n",
    "# Import Sionna RT components\n",
    "from sionna.rt import load_scene, Transmitter, Receiver, PlanarArray, RadioMaterial, LambertianPattern\n",
    "\n",
    "# random seed fixed for repeatability\n",
    "tf.random.set_seed(1)"
   ]
  },
  {
   "cell_type": "code",
   "execution_count": null,
   "metadata": {},
   "outputs": [],
   "source": [
    "import seaborn as sns"
   ]
  },
  {
   "cell_type": "code",
   "execution_count": null,
   "metadata": {},
   "outputs": [],
   "source": [
    "# Load integrated scene\n",
    "scene = load_scene(\"../linkhall1cm/linkhall1cm.xml\") \n",
    "#scene = load_scene(sionna.rt.scene.munich)\n"
   ]
  },
  {
   "cell_type": "code",
   "execution_count": null,
   "metadata": {},
   "outputs": [],
   "source": [
    "# define TX and RX antennas and RF information\n",
    "\n",
    "# Set the scattering coefficient of the radio material in the scene\n",
    "# to a non-zero value to enable scattering\n",
    "\n",
    "for key,mat in scene.radio_materials.items():\n",
    "    print(mat,key, mat.well_defined)\n",
    "    mat.scattering_coefficient=0\n",
    "\n",
    "# Configure antenna array for all transmitters\n",
    "scene.tx_array = PlanarArray(num_rows=8,\n",
    "                             num_cols=8,\n",
    "                             vertical_spacing=0.5,\n",
    "                             horizontal_spacing=0.5,\n",
    "                             pattern=\"tr38901\",\n",
    "                             polarization=\"V\",\n",
    "                             polarization_model=2)\n",
    "\n",
    "# Configure antenna array for all receivers\n",
    "scene.rx_array = PlanarArray(num_rows=1,\n",
    "                             num_cols=1,\n",
    "                             vertical_spacing=0.5,\n",
    "                             horizontal_spacing=0.5,\n",
    "                             pattern=\"dipole\",\n",
    "                             polarization=\"V\",\n",
    "                             polarization_model=2)\n",
    "\n",
    "scene.frequency = 3.5e9 # set the carrier frequency, 3.5 GHz is the default\n",
    "cm_cell_size = np.array([1,1]) # Each cell is 0.5mx0.5m "
   ]
  },
  {
   "cell_type": "code",
   "execution_count": null,
   "metadata": {},
   "outputs": [],
   "source": [
    "# transmitters = [\n",
    "#     {\"position\":[5,0,136], \"orientation\":[0,0,0], \"lookat\":[30,-27,0]},\n",
    "#     {\"position\":[5,-30,136], \"orientation\":[0,0,0], \"lookat\":[30,27,0]},\n",
    "#     {\"position\":[8,-70,130], \"orientation\":[0,0,0], \"lookat\":[30,-70,0]},\n",
    "#     {\"position\":[-58,55,136], \"orientation\":[0,0,0], \"lookat\":[0,55,0]}\n",
    "# ]\n",
    "\n",
    "# receivers = [\n",
    "#     {\"position\":[30,-27,0]},\n",
    "#     {\"position\":[30,27,0]},\n",
    "#     {\"position\":[30,-70,0]},\n",
    "#     {\"position\":[0,55,0]},\n",
    "# ]\n",
    "\n",
    "# transmitters = [\n",
    "#     {\"position\":[0, 20, 22], \"orientation\":[0,0,0], \"lookat\":[0,35,5]},\n",
    "# ]\n",
    "\n",
    "# receivers = [\n",
    "#     {\"position\":[0,35,5]},\n",
    "# ]"
   ]
  },
  {
   "cell_type": "code",
   "execution_count": null,
   "metadata": {},
   "outputs": [],
   "source": [
    "# point_measuraments = []\n",
    "# maps = []\n",
    "# probs = []\n",
    "# cms = []\n",
    "# for i in range(len(transmitters[:1])):\n",
    "#     print(\"starting map n: \",i)\n",
    "#     map, cm = generate_signal_map(scene, cm_cell_size, transmitter = transmitters[i], preview=False,height=None, receiver=receivers[i],orientation=(0,0,0))\n",
    "#     maps.append(map)\n",
    "#     point = map[coordinates[0]][coordinates[1]]\n",
    "#     point_measuraments.append(point)\n",
    "#     #prob = map_to_probability(point,map,percentage)\n",
    "#     #probs.append(prob)\n",
    "#     cms.append(cm)\n",
    "#     # sns.heatmap(map,vmin=-200,vmax=-20)\n",
    "#     # plt.show()"
   ]
  },
  {
   "cell_type": "code",
   "execution_count": null,
   "metadata": {},
   "outputs": [],
   "source": [
    "scene.remove(\"tx\")\n",
    "scene.remove(\"rx\")\n",
    "transmitter = {\"position\":[3, 9, 5], \"orientation\":[0,0,0], \"lookat\":[16,16,2]}\n",
    "tx = Transmitter(\"tx\", position=transmitter[\"position\"],\n",
    "                    orientation=[0,0,0])\n",
    "receiver = {\"position\":[16,16,2]}\n",
    "rx = Receiver(\"rx\", position=receiver[\"position\"], orientation=[0,0,0])\n",
    "scene.add(rx)\n",
    "scene.add(tx)\n",
    "tx.look_at(rx)"
   ]
  },
  {
   "cell_type": "code",
   "execution_count": null,
   "metadata": {},
   "outputs": [],
   "source": [
    "custom_material = RadioMaterial(\"my_material_2\",\n",
    "                                relative_permittivity=4.0,\n",
    "                                conductivity=0.1,\n",
    "                                scattering_coefficient=0,\n",
    "                                xpd_coefficient=0.1,\n",
    "                                scattering_pattern=LambertianPattern())"
   ]
  },
  {
   "cell_type": "code",
   "execution_count": null,
   "metadata": {},
   "outputs": [],
   "source": [
    "for key, val in scene.objects.items():\n",
    "    obj = scene.get(key)\n",
    "    obj.radio_material = custom_material"
   ]
  },
  {
   "cell_type": "code",
   "execution_count": null,
   "metadata": {},
   "outputs": [],
   "source": [
    "paths = scene.compute_paths()"
   ]
  },
  {
   "cell_type": "code",
   "execution_count": null,
   "metadata": {},
   "outputs": [],
   "source": [
    "#scene.preview(paths=paths)"
   ]
  },
  {
   "cell_type": "code",
   "execution_count": null,
   "metadata": {},
   "outputs": [],
   "source": [
    "coverage_map = scene.coverage_map(cm_cell_size=[1,1], # Configure size of each cell\n",
    "                        num_samples=1e6, diffraction=False, scattering=False,\n",
    "                        cm_center=(0,0,0.3),\n",
    "                        cm_size=(200,200),\n",
    "                        cm_orientation=(0,0,0))"
   ]
  },
  {
   "cell_type": "code",
   "execution_count": null,
   "metadata": {},
   "outputs": [],
   "source": [
    "scene.preview(coverage_map=coverage_map, paths=paths)"
   ]
  },
  {
   "cell_type": "code",
   "execution_count": null,
   "metadata": {},
   "outputs": [],
   "source": [
    "for prob in probs:\n",
    "    print(prob[coordinates[0]][coordinates[1]], np.max(prob))"
   ]
  },
  {
   "cell_type": "code",
   "execution_count": null,
   "metadata": {},
   "outputs": [],
   "source": [
    "f, (ax1, ax2,ax3,ax5) = plt.subplots(1, 4,figsize=(20, 5))\n",
    "f.suptitle(\"Probability for single antennas\")\n",
    "sns.heatmap(probs[0], ax=ax1, cmap=\"viridis\")\n",
    "sns.heatmap(probs[1], ax=ax2,cmap=\"viridis\")\n",
    "sns.heatmap(probs[2], ax=ax3, cmap=\"viridis\")\n",
    "sns.heatmap(probs[3], ax=ax5, cmap=\"viridis\")\n",
    "plt.show()"
   ]
  },
  {
   "cell_type": "code",
   "execution_count": null,
   "metadata": {},
   "outputs": [],
   "source": [
    "prob_final = 1\n",
    "for prob in probs:\n",
    "    prob_final *= prob\n",
    "\n",
    "prob_final[coordinates[0]][coordinates[1]]"
   ]
  },
  {
   "cell_type": "code",
   "execution_count": null,
   "metadata": {},
   "outputs": [],
   "source": [
    "np.max(prob_final)"
   ]
  },
  {
   "cell_type": "code",
   "execution_count": null,
   "metadata": {},
   "outputs": [],
   "source": [
    "from matplotlib.colors import LogNorm"
   ]
  },
  {
   "cell_type": "code",
   "execution_count": null,
   "metadata": {},
   "outputs": [],
   "source": [
    "sns.heatmap(prob_final,\n",
    "            #norm=LogNorm()\n",
    "            )\n",
    "plt.title(\"Location probability\")\n",
    "plt.axvline(coordinates[1],linewidth=0.7)\n",
    "plt.axhline(coordinates[0],linewidth=0.7, label=\"real location\")\n",
    "plt.legend()\n",
    "plt.show()"
   ]
  },
  {
   "cell_type": "markdown",
   "metadata": {},
   "source": [
    "# Second timestep"
   ]
  },
  {
   "cell_type": "code",
   "execution_count": null,
   "metadata": {},
   "outputs": [],
   "source": [
    "coordinates_2 = coordinates"
   ]
  },
  {
   "cell_type": "code",
   "execution_count": null,
   "metadata": {},
   "outputs": [],
   "source": [
    "point_measuraments_2 = []\n",
    "maps_2 = []\n",
    "probs_2 = []\n",
    "cms_2 = []\n",
    "for i in range(len(transmitters)):\n",
    "    print(\"starting map n: \",i)\n",
    "    map, cm = generate_signal_map(scene, cm_cell_size, transmitter = transmitters[i], preview=False,height=None, receiver=receivers[i],orientation=(0,0,0))\n",
    "    maps_2.append(map)\n",
    "    point = map[coordinates_2[0]][coordinates_2[1]]\n",
    "    point_measuraments_2.append(point)\n",
    "    prob = map_to_probability(point,map,percentage)\n",
    "    probs_2.append(prob)\n",
    "    cms_2.append(cm)\n",
    "    sns.heatmap(map,vmin=-200,vmax=-20)\n",
    "    plt.show()"
   ]
  },
  {
   "cell_type": "code",
   "execution_count": null,
   "metadata": {},
   "outputs": [],
   "source": [
    "prob_final_2 = 1\n",
    "for prob in probs_2:\n",
    "    prob_final_2 *= prob\n",
    "\n",
    "prob_final_2[coordinates_2[0]][coordinates_2[1]]"
   ]
  },
  {
   "cell_type": "code",
   "execution_count": null,
   "metadata": {},
   "outputs": [],
   "source": [
    "print(np.max(prob_final_2))"
   ]
  },
  {
   "cell_type": "code",
   "execution_count": null,
   "metadata": {},
   "outputs": [],
   "source": [
    "sns.heatmap(prob_final_2,\n",
    "            #norm=LogNorm()\n",
    "            )\n",
    "plt.title(\"Location probability\")\n",
    "plt.axvline(coordinates_2[1],linewidth=0.7)\n",
    "plt.axhline(coordinates_2[0],linewidth=0.7, label=\"real location\")\n",
    "plt.legend()\n",
    "plt.show()"
   ]
  },
  {
   "cell_type": "code",
   "execution_count": null,
   "metadata": {},
   "outputs": [],
   "source": [
    "sns.heatmap(prob_final * prob_final_2,\n",
    "            #norm=LogNorm()\n",
    "            )"
   ]
  },
  {
   "cell_type": "markdown",
   "metadata": {},
   "source": [
    "# 3rd"
   ]
  },
  {
   "cell_type": "code",
   "execution_count": null,
   "metadata": {},
   "outputs": [],
   "source": [
    "coordinates_3 = coordinates\n",
    "point_measuraments_3 = []\n",
    "maps_3 = []\n",
    "probs_3 = []\n",
    "cms_3 = []\n",
    "for i in range(len(transmitters)):\n",
    "    print(\"starting map n: \",i)\n",
    "    map, cm = generate_signal_map(scene, cm_cell_size, transmitter = transmitters[i], preview=False,height=None, receiver=receivers[i],orientation=(0,0,0))\n",
    "    maps_3.append(map)\n",
    "    point = map[coordinates_3[0]][coordinates_3[1]]\n",
    "    point_measuraments_3.append(point)\n",
    "    prob = map_to_probability(point,map,percentage)\n",
    "    probs_3.append(prob)\n",
    "    cms_3.append(cm)\n",
    "    sns.heatmap(map,vmin=-200,vmax=-20)\n",
    "    plt.show()"
   ]
  },
  {
   "cell_type": "code",
   "execution_count": null,
   "metadata": {},
   "outputs": [],
   "source": [
    "prob_final_3 = 1\n",
    "for prob in probs_3:\n",
    "    prob_final_3 *= prob\n",
    "\n",
    "prob_final_3[coordinates_3[0]][coordinates_3[1]]"
   ]
  },
  {
   "cell_type": "code",
   "execution_count": null,
   "metadata": {},
   "outputs": [],
   "source": [
    "print(np.max(prob_final_3))"
   ]
  },
  {
   "cell_type": "code",
   "execution_count": null,
   "metadata": {},
   "outputs": [],
   "source": [
    "sns.heatmap(prob_final_3,\n",
    "            #norm=LogNorm()\n",
    "            )\n",
    "plt.title(\"Location probability\")\n",
    "plt.axvline(coordinates_3[1],linewidth=0.7)\n",
    "plt.axhline(coordinates_3[0],linewidth=0.7, label=\"real location\")\n",
    "plt.legend()\n",
    "plt.show()"
   ]
  },
  {
   "cell_type": "code",
   "execution_count": null,
   "metadata": {},
   "outputs": [],
   "source": [
    "sns.heatmap(prob_final * prob_final_2 * prob_final_3,\n",
    "            #norm=LogNorm()\n",
    "            )\n",
    "plt.axvline(coordinates_3[1],linewidth=0.7)\n",
    "plt.axhline(coordinates_3[0],linewidth=0.7, label=\"real location\")\n",
    "plt.legend()\n",
    "plt.show()"
   ]
  },
  {
   "cell_type": "code",
   "execution_count": null,
   "metadata": {},
   "outputs": [],
   "source": [
    "coordinates_4 = coordinates\n",
    "point_measuraments_4 = []\n",
    "maps_4 = []\n",
    "probs_4 = []\n",
    "cms_4 = []\n",
    "for i in range(len(transmitters)):\n",
    "    print(\"starting map n: \",i)\n",
    "    map, cm = generate_signal_map(scene, cm_cell_size, transmitter = transmitters[i], preview=False,height=None, receiver=receivers[i],orientation=(0,0,0))\n",
    "    maps_4.append(map)\n",
    "    point = map[coordinates_4[0]][coordinates_4[1]]\n",
    "    point_measuraments_4.append(point)\n",
    "    prob = map_to_probability(point,map,percentage)\n",
    "    probs_4.append(prob)\n",
    "    cms_4.append(cm)\n",
    "    sns.heatmap(map,vmin=-200,vmax=-20)\n",
    "    plt.show()"
   ]
  },
  {
   "cell_type": "code",
   "execution_count": null,
   "metadata": {},
   "outputs": [],
   "source": [
    "prob_final_4 = 1\n",
    "for prob in probs_4:\n",
    "    prob_final_4 *= prob\n",
    "\n",
    "prob_final_4[coordinates_4[0]][coordinates_4[1]]"
   ]
  },
  {
   "cell_type": "code",
   "execution_count": null,
   "metadata": {},
   "outputs": [],
   "source": [
    "\n",
    "\n",
    "print((prob_final * prob_final_2 * prob_final_3)[coordinates[0]][coordinates[1]],max3)"
   ]
  },
  {
   "cell_type": "code",
   "execution_count": null,
   "metadata": {},
   "outputs": [],
   "source": [
    "max4 = np.max(prob_final * prob_final_2 * prob_final_3 * prob_final_4)\n",
    "max3 = np.max(prob_final * prob_final_2 * prob_final_3)\n",
    "max2 = np.max(prob_final * prob_final_2)\n",
    "max1 = np.max(prob_final)\n",
    "f, (ax1, ax2,ax3) = plt.subplots(1, 3,figsize=(20, 5))\n",
    "ax1.set_title(\"timestep 1\")\n",
    "ax2.set_title(\"timestep 2\")\n",
    "ax3.set_title(\"timestep 3\")\n",
    "ax4.set_title(\"timestep 4\")\n",
    "f.suptitle(\"Location probability\")\n",
    "sns.heatmap(prob_final/max1, ax=ax1,cmap=\"viridis\")\n",
    "sns.heatmap(prob_final * prob_final_2/max2, ax=ax2, cmap=\"viridis\")\n",
    "sns.heatmap(prob_final * prob_final_2 * prob_final_3/max3, ax=ax3, cmap=\"viridis\")\n",
    "#sns.heatmap((prob_final * prob_final_2 * prob_final_3 * prob_final_4)/max4, ax=ax4, cmap=\"viridis\")\n",
    "plt.axvline(coordinates_3[1],linewidth=0.7)\n",
    "plt.axhline(coordinates_3[0],linewidth=0.7, label=\"real location\")\n",
    "plt.legend()\n",
    "plt.show()"
   ]
  },
  {
   "cell_type": "code",
   "execution_count": null,
   "metadata": {},
   "outputs": [],
   "source": [
    "from PIL import Image \n",
    "  \n",
    "# open method used to open different extension image file \n",
    "im = Image.open(r\"TOP_415810.tif\")  \n",
    "  \n",
    "# This method will show image in any image viewer  \n",
    "im.show()  "
   ]
  },
  {
   "cell_type": "code",
   "execution_count": null,
   "metadata": {},
   "outputs": [],
   "source": [
    "from pyproj import Proj, transform\n",
    "import geopandas as gpd\n",
    "import shapely\n",
    " \n",
    "shapefile = gpd.read_file(\"footprints/Projektflaeche_Footprints_NORD.shp\")\n",
    " \n",
    "source_proj = Proj(init='epsg:32632')  # UTM Zone 32N\n",
    "target_proj = Proj(init='epsg:4326')   # WGS84 (latitude and longitude)\n",
    " \n",
    "# Transform coordinates\n",
    "x, y = shapely.get_coordinates(shapefile[\"geometry\"][0])[0]\n",
    "lon, lat = transform(source_proj, target_proj, x, y)\n",
    " \n",
    "print(\"Longitude:\", lon)\n",
    "print(\"Latitude:\", lat)\n",
    "shapefile"
   ]
  },
  {
   "cell_type": "code",
   "execution_count": null,
   "metadata": {},
   "outputs": [],
   "source": [
    "shapefile"
   ]
  },
  {
   "cell_type": "code",
   "execution_count": null,
   "metadata": {},
   "outputs": [],
   "source": []
  }
 ],
 "metadata": {
  "kernelspec": {
   "display_name": "rf-env",
   "language": "python",
   "name": "python3"
  },
  "language_info": {
   "codemirror_mode": {
    "name": "ipython",
    "version": 3
   },
   "file_extension": ".py",
   "mimetype": "text/x-python",
   "name": "python",
   "nbconvert_exporter": "python",
   "pygments_lexer": "ipython3",
   "version": "3.9.18"
  }
 },
 "nbformat": 4,
 "nbformat_minor": 2
}
