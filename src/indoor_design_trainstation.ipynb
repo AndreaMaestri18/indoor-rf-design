{
 "cells": [
  {
   "cell_type": "code",
   "execution_count": null,
   "metadata": {},
   "outputs": [],
   "source": [
    "import os\n",
    "gpu_num = \"\" # Use \"\" to use the CPU\n",
    "os.environ[\"CUDA_VISIBLE_DEVICES\"] = f\"{gpu_num}\"\n",
    "os.environ['TF_CPP_MIN_LOG_LEVEL'] = '3'\n",
    "\n",
    "resolution = [480,320] # increase for higher quality of renderings\n",
    "\n",
    "# Allows to exit cell execution in Jupyter\n",
    "class ExitCell(Exception):\n",
    "    def _render_traceback_(self):\n",
    "        pass\n",
    "\n",
    "# Import Sionna\n",
    "try:\n",
    "    import sionna\n",
    "except ImportError as e:\n",
    "    # Install Sionna if package is not already installed\n",
    "    import os\n",
    "    os.system(\"pip install sionna\")\n",
    "    import sionna\n",
    "\n",
    "# Configure the notebook to use only a single GPU and allocate only as much memory as needed\n",
    "# For more details, see https://www.tensorflow.org/guide/gpu\n",
    "import tensorflow as tf\n",
    "gpus = tf.config.list_physical_devices('GPU')\n",
    "if gpus:\n",
    "    try:\n",
    "        tf.config.experimental.set_memory_growth(gpus[0], True)\n",
    "    except RuntimeError as e:\n",
    "        print(e)\n",
    "# Avoid warnings from TensorFlow\n",
    "tf.get_logger().setLevel('ERROR')\n",
    "\n",
    "tf.random.set_seed(1) # Set global random seed for reproducibility"
   ]
  },
  {
   "cell_type": "code",
   "execution_count": null,
   "metadata": {},
   "outputs": [],
   "source": [
    "import matplotlib.pyplot as plt\n",
    "import matplotlib.animation as animation\n",
    "import numpy as np\n",
    "import time\n",
    "\n",
    "# Import Sionna RT components\n",
    "from sionna.rt import load_scene, Transmitter, Receiver, PlanarArray, RadioMaterial, LambertianPattern\n",
    "from sionna.constants import PI\n",
    "\n",
    "# For link-level simulations\n",
    "from sionna.channel import cir_to_ofdm_channel, subcarrier_frequencies, OFDMChannel, ApplyOFDMChannel, CIRDataset\n",
    "from sionna.nr import PUSCHConfig, PUSCHTransmitter, PUSCHReceiver\n",
    "from sionna.utils import compute_ber, ebnodb2no, PlotBER\n",
    "from sionna.ofdm import KBestDetector, LinearDetector\n",
    "from sionna.mimo import StreamManagement"
   ]
  },
  {
   "cell_type": "code",
   "execution_count": null,
   "metadata": {},
   "outputs": [],
   "source": [
    "# Load integrated scene\n",
    "scene = load_scene(\"../scenes/accenture_5G_indoor/Acccenture_inside_building.xml\")"
   ]
  },
  {
   "cell_type": "code",
   "execution_count": null,
   "metadata": {},
   "outputs": [],
   "source": [
    "scene.get(\"elm__4\").radio_material = \"itu_glass\"\n",
    "scene.get(\"elm__5\").radio_material = \"itu_brick\"\n",
    "scene.get(\"elm__6\").radio_material = \"itu_concrete\""
   ]
  },
  {
   "cell_type": "code",
   "execution_count": null,
   "metadata": {},
   "outputs": [],
   "source": [
    "epsilon_r_complex = scene.get(\"elm__4\").radio_material.complex_relative_permittivity"
   ]
  },
  {
   "cell_type": "code",
   "execution_count": null,
   "metadata": {},
   "outputs": [],
   "source": [
    "print(epsilon_r_complex)\n",
    "k = np.imag(np.sqrt(epsilon_r_complex))\n",
    "n = np.real(np.sqrt(epsilon_r_complex))\n",
    "n,k"
   ]
  },
  {
   "cell_type": "code",
   "execution_count": null,
   "metadata": {},
   "outputs": [],
   "source": [
    "R = ((1-n)**2+k**2)/((1+n)**2+k**2)\n",
    "R"
   ]
  },
  {
   "cell_type": "code",
   "execution_count": null,
   "metadata": {},
   "outputs": [],
   "source": [
    "xy_center = [98,80]\n",
    "z_centers = [5.6, 1.5]"
   ]
  },
  {
   "cell_type": "code",
   "execution_count": null,
   "metadata": {},
   "outputs": [],
   "source": [
    "sampling_frequency = 10e6\n",
    "sample_m = 62.0 / sampling_frequency\n",
    "\n",
    "c0 = sionna.SPEED_OF_LIGHT\n",
    "\n",
    "fc = 3.6e9\n",
    "scene.frequency = fc # in Hz; implicitly updates RadioMaterials\n",
    "\n",
    "scene.synthetic_array = False # If set to False, ray tracing will be done per antenna element (slower for large arrays)"
   ]
  },
  {
   "cell_type": "code",
   "execution_count": null,
   "metadata": {},
   "outputs": [],
   "source": [
    "epsilon_0 = 8.854 * 10**-12\n",
    "T = 1-R\n",
    "alpha = (2 * 2 * np.pi * fc * np.abs(k))/c0\n",
    "print(T, alpha)\n",
    "T * (1 - np.e ** -(alpha*0.03)) * T"
   ]
  },
  {
   "cell_type": "code",
   "execution_count": null,
   "metadata": {},
   "outputs": [],
   "source": [
    "da = 0.5\n",
    "M = 8\n",
    "N = 4\n",
    "\n",
    "scene._clear()\n",
    "\n",
    "# Configure antenna array for all transmitters\n",
    "scene.tx_array = PlanarArray(num_rows=N,\n",
    "                             num_cols=M,\n",
    "                             vertical_spacing=da,\n",
    "                             horizontal_spacing=da,\n",
    "                             pattern=\"tr38901\",\n",
    "                             polarization=\"V\")\n",
    "\n",
    "# Configure antenna array for all receivers\n",
    "scene.rx_array = PlanarArray(num_rows=1,\n",
    "                             num_cols=1,\n",
    "                             vertical_spacing=da,\n",
    "                             horizontal_spacing=da,\n",
    "                             pattern=\"tr38901\",\n",
    "                             polarization=\"V\")\n",
    "                             #polarization=\"cross\")"
   ]
  },
  {
   "cell_type": "code",
   "execution_count": null,
   "metadata": {},
   "outputs": [],
   "source": [
    "transmitters = [\n",
    "    {\n",
    "        \"name\":\"tx_outdoor_1\",\n",
    "        \"position\":[95.4,114.6,18.11],\n",
    "        \"orientation\":[0,0,0],\n",
    "        \"antenna_type\":\"dipole\"\n",
    "    },\n",
    "    {\n",
    "        \"name\":\"tx_outdoor_2\",\n",
    "        \"position\":[101,114.6,18.11],\n",
    "        \"orientation\":[0,0,0],\n",
    "        \"antenna_type\":\"dipole\"\n",
    "    },\n",
    "    {\n",
    "        \"name\":\"tx_indoor_1\",\n",
    "        \"position\":[94,60,13.41],\n",
    "        \"orientation\":[0,0,0],\n",
    "        \"antenna_type\":\"dipole\"\n",
    "    },\n",
    "]\n",
    "\n",
    "receivers = [\n",
    "    {\n",
    "        \"name\":\"rx_outdoor_1\",\n",
    "        \"position\":[43.9394, 125.376, 1.5+5.56987],\n",
    "        \"orientation\":[0,0,0]\n",
    "    },\n",
    "    {\n",
    "        \"name\":\"rx_outdoor_2\",\n",
    "        \"position\":[153, 125.376, 1.5+5.56987],\n",
    "        \"orientation\":[0,0,0]\n",
    "    },\n",
    "    {\n",
    "        \"name\":\"rx_indoor_1\",\n",
    "        \"position\":[94,20, 1.5],\n",
    "        \"orientation\":[0,0,0]\n",
    "    },\n",
    "]"
   ]
  },
  {
   "cell_type": "code",
   "execution_count": null,
   "metadata": {},
   "outputs": [],
   "source": [
    "for i in range(len(transmitters)):\n",
    "    tx = Transmitter(name=transmitters[i][\"name\"],\n",
    "                 position=transmitters[i][\"position\"])\n",
    "    rx = Receiver(name=receivers[i][\"name\"],\n",
    "              position=receivers[i][\"position\"])\n",
    "    scene.add(tx)\n",
    "    scene.add(rx)\n",
    "    tx.look_at(rx)\n",
    "    rx.look_at(tx)"
   ]
  },
  {
   "cell_type": "code",
   "execution_count": null,
   "metadata": {},
   "outputs": [],
   "source": [
    "cm_level_1 = scene.coverage_map(num_samples=10e5,\n",
    "                            max_depth=5,\n",
    "                            diffraction=True,\n",
    "                            cm_center=xy_center + [z_centers[0]],\n",
    "                            cm_orientation=[0,0,0],\n",
    "                            cm_size=[400,400],\n",
    "                            cm_cell_size=[1,1])\n",
    "\n",
    "cm_level_2 = scene.coverage_map(num_samples=10e5,\n",
    "                            max_depth=5,\n",
    "                            diffraction=True,\n",
    "                            cm_center=xy_center + [z_centers[1]],\n",
    "                            cm_orientation=[0,0,0],\n",
    "                            cm_size=[400,400],\n",
    "                            cm_cell_size=[1,1])"
   ]
  },
  {
   "cell_type": "code",
   "execution_count": null,
   "metadata": {},
   "outputs": [],
   "source": [
    "cm_level_1.show(tx=0);\n",
    "cm_level_1.show(tx=1);\n",
    "cm_level_1.show(tx=2);"
   ]
  },
  {
   "cell_type": "code",
   "execution_count": null,
   "metadata": {},
   "outputs": [],
   "source": [
    "cm_level_2.show(tx=0);\n",
    "cm_level_2.show(tx=1);\n",
    "cm_level_2.show(tx=2);"
   ]
  },
  {
   "cell_type": "code",
   "execution_count": null,
   "metadata": {},
   "outputs": [],
   "source": [
    "scene.preview(coverage_map=cm_level_2, cm_tx=2)"
   ]
  },
  {
   "cell_type": "code",
   "execution_count": null,
   "metadata": {},
   "outputs": [],
   "source": []
  },
  {
   "cell_type": "code",
   "execution_count": null,
   "metadata": {},
   "outputs": [],
   "source": []
  },
  {
   "cell_type": "code",
   "execution_count": null,
   "metadata": {},
   "outputs": [],
   "source": []
  }
 ],
 "metadata": {
  "kernelspec": {
   "display_name": "insioor-rf-design-env",
   "language": "python",
   "name": "python3"
  },
  "language_info": {
   "codemirror_mode": {
    "name": "ipython",
    "version": 3
   },
   "file_extension": ".py",
   "mimetype": "text/x-python",
   "name": "python",
   "nbconvert_exporter": "python",
   "pygments_lexer": "ipython3",
   "version": "3.9.18"
  }
 },
 "nbformat": 4,
 "nbformat_minor": 2
}
