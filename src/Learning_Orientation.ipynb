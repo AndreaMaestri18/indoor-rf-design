{
 "cells": [
  {
   "cell_type": "markdown",
   "id": "5cd9d8c9-4fa5-4205-8c06-a325e33c950b",
   "metadata": {},
   "source": [
    "# Learning of the Transmitter Orientation via Gradient Descent"
   ]
  },
  {
   "cell_type": "markdown",
   "id": "50e3aa6b-e462-43a3-b939-bb614978dd4b",
   "metadata": {},
   "source": [
    "This notebook reproduces the results for the example application \"Optimization of transmitter orientation\" in the paper [Sionna RT: Differentiable Ray Tracing for Radio Propagation Modeling](https://arxiv.org).\n",
    "\n",
    "It requires [Sionna](https://github.com/NVlabs/sionna) v0.16 or later.\n"
   ]
  },
  {
   "cell_type": "markdown",
   "id": "e4409cb8-84be-4a9c-b989-1280367d4ebc",
   "metadata": {
    "tags": []
   },
   "source": [
    "## Imports and GPU Configuration"
   ]
  },
  {
   "cell_type": "code",
   "execution_count": null,
   "id": "f9c35642-0e46-4c53-8d1d-78dc655b57e6",
   "metadata": {
    "tags": []
   },
   "outputs": [],
   "source": [
    "# Set some environment variables\n",
    "import os\n",
    "gpu_num = \"\" # GPU to be used. Use \"\" to use the CPU\n",
    "os.environ['TF_CPP_MIN_LOG_LEVEL'] = '3' # Suppress some TF warnings\n",
    "os.environ[\"CUDA_VISIBLE_DEVICES\"] = f\"{gpu_num}\"\n",
    "\n",
    "# Import Sionna\n",
    "try:\n",
    "    import sionna\n",
    "except ImportError as e:\n",
    "    # Install Sionna if package is not already installed\n",
    "    os.system(\"pip install sionna\")\n",
    "    import sionna\n",
    "\n",
    "# Configure GPU\n",
    "import tensorflow as tf\n",
    "# gpus = tf.config.list_physical_devices('GPU')\n",
    "# if gpus:\n",
    "#     try:\n",
    "#         tf.config.experimental.set_memory_growth(gpus[0], True)\n",
    "#     except RuntimeError as e:\n",
    "#         print(e)\n",
    "\n",
    "# Avoid warnings from TensorFlow\n",
    "import warnings\n",
    "tf.get_logger().setLevel('ERROR')\n",
    "warnings.filterwarnings('ignore')\n",
    "\n",
    "# Other imports\n",
    "import numpy as np\n",
    "%matplotlib inline\n",
    "import matplotlib.pyplot as plt\n",
    "import matplotlib.patches as patches\n",
    "\n",
    "from sionna.rt import load_scene, PlanarArray, Transmitter, Receiver, Camera\n",
    "\n",
    "# Fix the seed for reproducible results\n",
    "tf.random.set_seed(1)\n",
    "\n",
    "pre_optimisation_cm = []\n",
    "post_optimisation_cm = []"
   ]
  },
  {
   "cell_type": "markdown",
   "id": "6d0cf3c3-cdf9-4a0f-9b01-f0b6a1f2d40d",
   "metadata": {
    "tags": []
   },
   "source": [
    "## Configure the Scene and Generate Reference Data\n",
    "\n",
    "In this example, we load the scene \"etoile\" which is already available in Sionna and then place a single transmitter **with trainable orientation** within the scene.\n"
   ]
  },
  {
   "cell_type": "code",
   "execution_count": null,
   "id": "751a153e-aec0-4694-816e-73eba10d5690",
   "metadata": {
    "tags": []
   },
   "outputs": [],
   "source": [
    "# Load the scene\n",
    "#scene = load_scene(sionna.rt.scene.etoile)\n",
    "# Load integrated scene\n",
    "scene = load_scene(\"/Users/andreamaestri/Desktop/tectwin/GEO/geoloc-rf/scenes/accenturePOC/accenturePOC.xml\") \n",
    "scene.frequency = 3.5e9\n",
    "# Set the scattering coefficient of the radio material in the scene\n",
    "# to a non-zero value to enable scattering"
   ]
  },
  {
   "cell_type": "code",
   "execution_count": null,
   "id": "9a9105f8",
   "metadata": {},
   "outputs": [],
   "source": [
    "scene.get(\"elm__4\").radio_material = \"itu_concrete\""
   ]
  },
  {
   "cell_type": "code",
   "execution_count": null,
   "id": "f72482cc",
   "metadata": {},
   "outputs": [],
   "source": [
    "scene._clear()"
   ]
  },
  {
   "cell_type": "code",
   "execution_count": null,
   "id": "86d784fe",
   "metadata": {},
   "outputs": [],
   "source": [
    "# Configure the transmit array\n",
    "scene.tx_array = PlanarArray(num_rows=1, num_cols=16,\n",
    "                             vertical_spacing=0.5,\n",
    "                             horizontal_spacing=0.5,\n",
    "                             pattern=\"tr38901\",\n",
    "                             polarization=\"V\",\n",
    "                             polarization_model=2)\n",
    "\n",
    "# Configure the receive array (use to compute the coverage map)\n",
    "scene.rx_array = PlanarArray(num_rows=1, num_cols=1,\n",
    "                             vertical_spacing=0.5,\n",
    "                             horizontal_spacing=0.5,\n",
    "                             pattern=\"iso\",\n",
    "                             polarization=\"V\",\n",
    "                             polarization_model=2)\n",
    "\n",
    "# Create a transmitter and add it to the scene\n",
    "#transmitter_coordinates = [[-37.47,-46.16,6],[-30.13,-27.22,6],[-30.2714, -28,6],[54.74, -99.,6], [68.12, -82.21, 6], [13.37, -43.53,6],[37.13, -36.03,6]]\n",
    "#transmitter_coordinates = [[-8.05184,23.06,6.91],[11.39,16.05,0.9185],[31.43, 30.23, 6.93]]\n",
    "transmitter_coordinates = [np.array([-4.18, 38.12, 16]), np.array([22.96, 16.6, 16]), np.array([43.58, -1.604, 16])]\n",
    "#transmitter_coordinates = [np.array([-4.18, 38.12, 16]), np.array([43.58, -1.604, 16])]\n",
    "\n",
    "\n",
    "tx = Transmitter(f\"tx0\", position=transmitter_coordinates[0],\n",
    "                    orientation=tf.Variable([0.0, 0.0, 0.0], tf.float32)) # Trainable orientation\n",
    "\n",
    "scene.add(tx)\n",
    "tx = Transmitter(f\"tx1\", position=transmitter_coordinates[1],\n",
    "                    orientation=tf.Variable([0.0, 0.0, 0.0], tf.float32)) # Trainable orientation\n",
    "\n",
    "scene.add(tx)\n",
    "tx = Transmitter(f\"tx2\", position=transmitter_coordinates[2],\n",
    "                    orientation=tf.Variable([0.0, 0.0, 0.0], tf.float32)) # Trainable orientation\n",
    "\n",
    "scene.add(tx)\n",
    "\n",
    "# Render the scene\n",
    "# The transmitter is indicated by a blue ball\n",
    "# cam = Camera(\"my_cam\", position=(0,0,15))\n",
    "# scene.add(cam)\n",
    "# cam.look_at([0,0,0])\n",
    "# scene.render(cam);"
   ]
  },
  {
   "cell_type": "markdown",
   "id": "188f328d-30aa-42d8-9195-403d5400bb70",
   "metadata": {},
   "source": [
    "Next, we will compute and show a coverage map for the transmitter `\"tx\"`. The coverage map corresponds to the average received power into small rectangular regions (or *cells*) of a plane, which, by default, is parallel to the XY plane, and sized such that it covers the entire scene with an elevation of $1.5$ m.\n",
    "\n",
    "The coverage map is divided into cells of size ``cm_cell_size`` (in meters). The smaller the size of the cells, the more precise the coverage map."
   ]
  },
  {
   "cell_type": "code",
   "execution_count": null,
   "id": "8ae6cb27-0c21-4bb3-896a-9f753250bb81",
   "metadata": {},
   "outputs": [],
   "source": [
    "target_center = np.array([-15,  -15, 1.5]) # Center\n",
    "target_size = np.array([200,200]) # Size\n",
    "target_orientation = np.array([0,0,0]) # Orientation: parallel to XY\n",
    "cm_cell_size = np.array([1,1]) # Each cell is 2mx2m\n",
    "\n",
    "with tf.GradientTape() as tape:\n",
    "    # Compute coverage of the target area\n",
    "    target_cm = scene.coverage_map(cm_center=target_center,\n",
    "                                   cm_orientation=target_orientation, \n",
    "                                   cm_size=target_size, # Target area \n",
    "                                   cm_cell_size=cm_cell_size,\n",
    "                                   diffraction=False, scattering=False, # Enable diffraction and scattering in addition to reflection and LoS\n",
    "                                   check_scene=False) # Don't check the scene prior to compute to speed things up\n",
    "    \n",
    "    rate = tf.reduce_mean(tf.math.log(1. + target_cm.as_tensor()))/tf.math.log(2.)\n",
    "    loss = -rate\n",
    "    \n",
    "# Compute gradients and apply through the optimizer\n",
    "grads = tape.gradient(loss, tape.watched_variables())"
   ]
  },
  {
   "cell_type": "code",
   "execution_count": null,
   "id": "0e0e00e8-85f1-412c-86bc-656ea5c8b274",
   "metadata": {
    "tags": []
   },
   "outputs": [],
   "source": [
    "# Rectangle defining the target area\n",
    "target_center = np.array([-15,  -15, 1.5]) # Center\n",
    "target_size = np.array([200,200]) # Size\n",
    "target_orientation = np.array([0,0,0]) # Orientation: parallel to XY\n",
    "cm_cell_size = np.array([1,1]) # Each cell is 2mx2m\n",
    "cm = scene.coverage_map(\n",
    "                        cm_center=target_center,\n",
    "                        cm_orientation=target_orientation, \n",
    "                        cm_size=target_size,\n",
    "                        num_samples=10e6, # Reduce if your GPU does not have enough memory\n",
    "                        cm_cell_size=cm_cell_size,\n",
    "                        diffraction=False, scattering=False,  # Enables diffraction and scattering in addition to reflection and LoS\n",
    "                        check_scene=False) # Don't check the scene prior to compute to speed things up)\n",
    "print(cm.as_tensor().shape)"
   ]
  },
  {
   "cell_type": "code",
   "execution_count": null,
   "id": "7a8a8aae",
   "metadata": {},
   "outputs": [],
   "source": [
    "#scene.preview(coverage_map=cm, cm_tx=0)"
   ]
  },
  {
   "cell_type": "code",
   "execution_count": null,
   "id": "77d1aaa2",
   "metadata": {},
   "outputs": [],
   "source": [
    "max1 = 10*np.log10(np.max(cm.as_tensor().numpy()[0]))\n",
    "indexes = np.where(10*np.log10(cm.as_tensor().numpy()[0])==max1)\n",
    "\n",
    "10*np.log10(np.max(cm.as_tensor().numpy()[0])/1e-12)"
   ]
  },
  {
   "cell_type": "code",
   "execution_count": null,
   "id": "7f05db9b",
   "metadata": {},
   "outputs": [],
   "source": [
    "cm.show(tx=0);\n",
    "cm.show(tx=1);\n",
    "cm.show(tx=2);"
   ]
  },
  {
   "cell_type": "markdown",
   "id": "81e5be4f-0e36-492f-8b44-44d0445720d5",
   "metadata": {},
   "source": [
    "The shape of the coverage map is ``[num_tx, num_cells_y, num_cells_x]``"
   ]
  },
  {
   "cell_type": "code",
   "execution_count": null,
   "id": "22db9150",
   "metadata": {},
   "outputs": [],
   "source": [
    "import seaborn as sns"
   ]
  },
  {
   "cell_type": "code",
   "execution_count": null,
   "id": "a9a99886",
   "metadata": {},
   "outputs": [],
   "source": [
    "import matplotlib.pyplot as plt\n",
    "\n",
    "# Create a figure and a set of subplots\n",
    "fig, axs = plt.subplots(1,3, figsize=(18, 6))\n",
    "\n",
    "cm_0 = 10*np.log10(np.where(cm[0]==0, 1e-12, cm[0]))\n",
    "cm_1 = 10*np.log10(np.where(cm[1]==0, 1e-12, cm[1]))\n",
    "cm_2 = 10*np.log10(np.where(cm[2]==0, 1e-12, cm[2]))\n",
    "\n",
    "sns.heatmap(cm_0, ax=axs[0], vmin=-150, vmax=-40)\n",
    "sns.heatmap(cm_1, ax=axs[1], vmin=-150, vmax=-40)\n",
    "sns.heatmap(cm_2, ax=axs[2], vmin=-150, vmax=-40)\n",
    "\n",
    "# Adjust layout\n",
    "plt.tight_layout()\n",
    "\n",
    "# Display the plots\n",
    "plt.show()"
   ]
  },
  {
   "cell_type": "code",
   "execution_count": null,
   "id": "182b5957",
   "metadata": {},
   "outputs": [],
   "source": [
    "import numpy as np\n",
    "cm_0 = np.where(cm[0]==0, 1e-12, cm[0])\n",
    "cm_1 = np.where(cm[1]==0, 1e-12, cm[1])\n",
    "cm_2 = np.where(cm[2]==0, 1e-12, cm[2])\n",
    "N=0\n",
    "SINR_0 = cm_0 / (cm_1 + cm_2 + N)\n",
    "SINR_1 = cm_1 / (cm_0 + cm_2 + N)\n",
    "SINR_2 = cm_2 / (cm_0 + cm_1 + N)\n",
    "\n",
    "sns.heatmap(10 * tf.math.log(SINR_0))\n",
    "plt.show()\n",
    "sns.heatmap(10 * tf.math.log(SINR_1))\n",
    "plt.show()\n",
    "sns.heatmap(10 * tf.math.log(SINR_2))\n",
    "plt.show()\n",
    "\n",
    "# Define the threshold value\n",
    "up_threshold = 13\n",
    "\n",
    "# Create the mask\n",
    "mask_0 = np.where(SINR_0 > up_threshold, 1, 0)\n",
    "mask_1 = np.where(SINR_1 > up_threshold, 1, 0)\n",
    "mask_2 = np.where(SINR_2 > up_threshold, 1, 0)\n",
    "print(sum(sum(mask_0)) + sum(sum(mask_1)) + sum(sum(mask_2)))\n",
    "sns.heatmap(mask_0)\n",
    "plt.show()\n",
    "sns.heatmap(mask_1)\n",
    "plt.show()\n",
    "sns.heatmap(mask_2)\n",
    "plt.show()\n",
    "\n",
    "sns.heatmap(mask_0+mask_1+mask_2)\n",
    "plt.show()"
   ]
  },
  {
   "cell_type": "markdown",
   "id": "7e5c31e4-2d69-4e4b-a44d-fb50c12dee98",
   "metadata": {},
   "source": [
    "In the above figure, white areas are not hit by any ray. This usually implies that the coverage is negligible in these areas."
   ]
  },
  {
   "cell_type": "markdown",
   "id": "439c09b2-6efb-4c77-9c4e-b5e139ec9cab",
   "metadata": {
    "tags": []
   },
   "source": [
    "## Learn the Orientation of the Transmitter\n",
    "\n",
    "We will now optimize through gradient descent the orientation of the transmitter to improve the coverage in an area defined by a rectangle with the following properties. Note that these properties are defined in the scene coordinate system."
   ]
  },
  {
   "cell_type": "markdown",
   "id": "e0b5aa73-89d6-4496-ad9f-d9b61653e4ed",
   "metadata": {},
   "source": [
    "Let's visualize the target area on the coverage map. We first define a utility function to highlight the target area."
   ]
  },
  {
   "cell_type": "code",
   "execution_count": null,
   "id": "ac15ddae-d620-4292-a3a4-5b7a20d2e25f",
   "metadata": {
    "tags": []
   },
   "outputs": [],
   "source": [
    "def visualize_target_area(ax, cell_size, center, size):\n",
    "    # ax: Pyplot.Axes object on which to show the coverage map\n",
    "    # cell_size : Size of the cells of the coverage map\n",
    "    # center : Center of the target area\n",
    "    # Size : Size of the target area\n",
    "    def scene2cm(p):\n",
    "        # Change coordinates p : (x,y) from scene to coverage map system\n",
    "        shift = scene.center[:2].numpy() - scene.size[:2].numpy()*0.5\n",
    "        print(p)\n",
    "        print(shift)\n",
    "        p = p - shift\n",
    "        print(p)\n",
    "        p = np.floor(p/cell_size)\n",
    "        print(p)\n",
    "        return p\n",
    "\n",
    "    # xy is the bottom left corner of the rectangle defining the target area\n",
    "    xy = scene2cm(center[:2] - size[:2]*0.5)\n",
    "    size_cm = np.floor(size/cell_size)\n",
    "    rect = patches.Rectangle(xy, size_cm[0], size_cm[1], linewidth=1, edgecolor='r', facecolor='none')\n",
    "    ax.add_patch(rect)"
   ]
  },
  {
   "cell_type": "markdown",
   "id": "a003b06d-3e47-44a5-9bf1-ea9dbc745ee4",
   "metadata": {},
   "source": [
    "Next, we optimize the coverage of the target area through gradient descent with respect to the orientation of the transmitter. To that end, during the optimization process, coverage is only computed for the target area."
   ]
  },
  {
   "cell_type": "code",
   "execution_count": null,
   "id": "85ee4f4f",
   "metadata": {},
   "outputs": [],
   "source": [
    "import numpy as np\n",
    "import tensorflow as tf\n",
    "\n",
    "target_center = np.array([-15, -15, 1.5])  # Center\n",
    "target_size = np.array([200, 200])  # Size\n",
    "target_orientation = np.array([0, 0, 0])  # Orientation: parallel to XY\n",
    "cm_cell_size = np.array([1, 1])  # Each cell is 1mx1m\n",
    "\n",
    "# Assuming scene.transmitters['tx0'], scene.transmitters['tx1'], scene.transmitters['tx2'] are the variables to watch\n",
    "tx0_orientation = scene.transmitters['tx0'].orientation\n",
    "tx1_orientation = scene.transmitters['tx1'].orientation\n",
    "tx2_orientation = scene.transmitters['tx2'].orientation\n",
    "\n",
    "# Configure an SGD optimizer\n",
    "optimizer = tf.keras.optimizers.legacy.RMSprop(0.1)\n",
    "\n",
    "# Number of training steps\n",
    "num_steps = 10\n",
    "\n",
    "# Weighting factors for the loss terms\n",
    "weight_sinr = 1\n",
    "weight_coverage = 0\n",
    "\n",
    "def train_step():\n",
    "    \"\"\"A single training step\"\"\"\n",
    "    with tf.GradientTape() as tape:\n",
    "        \n",
    "        # Compute coverage of the target area\n",
    "        target_cm = scene.coverage_map(cm_center=target_center,\n",
    "                                       cm_orientation=target_orientation, \n",
    "                                       cm_size=target_size,  # Target area \n",
    "                                       cm_cell_size=cm_cell_size,\n",
    "                                       diffraction=True, scattering=True,  # Enable diffraction and scattering in addition to reflection and LoS\n",
    "                                       check_scene=False)  # Don't check the scene prior to compute to speed things up\n",
    "        \n",
    "        # Convert to tf.float32 to ensure dtype consistency\n",
    "        target_cm_tensor = target_cm.as_tensor()\n",
    "        \n",
    "        # Compute cm_0, cm_1, cm_2 using TensorFlow functions\n",
    "        cm_0 = tf.where(target_cm_tensor[0] == 0, 1e-12, target_cm_tensor[0])\n",
    "        cm_1 = tf.where(target_cm_tensor[1] == 0, 1e-12, target_cm_tensor[1])\n",
    "        cm_2 = tf.where(target_cm_tensor[2] == 0, 1e-12, target_cm_tensor[2])\n",
    "        \n",
    "        # Assuming noise power N is 1e-12\n",
    "        N = 1e-12\n",
    "        \n",
    "        # Calculate SINR for each transmitter\n",
    "        SINR_0 = cm_0 / (cm_1 + cm_2 + N)\n",
    "        SINR_1 = cm_1 / (cm_0 + cm_2 + N)\n",
    "        SINR_2 = cm_2 / (cm_0 + cm_1 + N)\n",
    "        \n",
    "        # Compute SINR loss as the negative log of the SINR, averaged over all cells\n",
    "        sinr_loss = -tf.reduce_mean(tf.math.log(1+SINR_0 + 1e-12) + tf.math.log(1+SINR_1 + 1e-12) + tf.math.log(1+SINR_2 + 1e-12))\n",
    "        \n",
    "        # Compute coverage rate\n",
    "        scaling = 1e10\n",
    "        rate = tf.reduce_mean(tf.math.log(1. + target_cm_tensor * scaling)) / tf.math.log(2.0)\n",
    "        coverage_loss = -rate  # Note the negative sign to make it a loss\n",
    "        # Combine SINR loss and coverage loss\n",
    "        loss = weight_sinr * sinr_loss + weight_coverage * coverage_loss\n",
    "    \n",
    "    # Compute gradients and apply through the optimizer\n",
    "    grads = tape.gradient(loss, tape.watched_variables())\n",
    "    optimizer.apply_gradients(zip(grads, tape.watched_variables()))\n",
    "    return loss\n",
    "\n",
    "for step in range(num_steps):\n",
    "    loss = train_step()\n",
    "    print(f\"Training step {step} - Loss: {loss.numpy():.2E} - tx orientation: {scene.transmitters['tx0'].orientation.numpy(), scene.transmitters['tx1'].orientation.numpy()}\", end='\\r'),# scene.transmitters['tx2'].orientation.numpy()}\", end='\\r')\n"
   ]
  },
  {
   "cell_type": "markdown",
   "id": "e6d6c408-90fb-4833-8c95-91e0760ff7cb",
   "metadata": {},
   "source": [
    "Let's now compute the new coverage map over the entire scene with the optimized orientation."
   ]
  },
  {
   "cell_type": "code",
   "execution_count": null,
   "id": "6aacfc7a-56bd-4ad6-91fd-7dd0fbe7fdc5",
   "metadata": {
    "tags": []
   },
   "outputs": [],
   "source": [
    "cm_new = scene.coverage_map(\n",
    "                            cm_center=target_center,\n",
    "                            cm_orientation=target_orientation, \n",
    "                            cm_size=target_size, # Target area \n",
    "                            cm_cell_size=cm_cell_size,\n",
    "                            num_samples=10e6, # Reduce if your GPU does not have enough memory\n",
    "                            diffraction=False, scattering=False, # Enable diffraction and scattering in addition to reflection and LoS\n",
    "                            check_scene=False) # Don't check the scene prior to compute to speed things up"
   ]
  },
  {
   "cell_type": "markdown",
   "id": "9a1005a5-c8a2-4c80-9d4f-c46e1500e7ee",
   "metadata": {},
   "source": [
    "Finally, the coverage map before and after optimization are shown, with the target area highlighed."
   ]
  },
  {
   "cell_type": "code",
   "execution_count": null,
   "id": "417c2a1d",
   "metadata": {},
   "outputs": [],
   "source": [
    "import matplotlib.pyplot as plt\n",
    "\n",
    "# Create a figure and a set of subplots\n",
    "fig, axs = plt.subplots(1,3, figsize=(18, 6))\n",
    "\n",
    "cm_0 = 10*np.log10(np.where(cm_new[0]==0, 1e-12, cm_new[0]))\n",
    "cm_1 = 10*np.log10(np.where(cm_new[1]==0, 1e-12, cm_new[1]))\n",
    "cm_2 = 10*np.log10(np.where(cm_new[2]==0, 1e-12, cm_new[2]))\n",
    "\n",
    "sns.heatmap(cm_0, ax=axs[0], vmin=-150, vmax=-40)\n",
    "sns.heatmap(cm_1, ax=axs[1], vmin=-150, vmax=-40)\n",
    "sns.heatmap(cm_2, ax=axs[2], vmin=-150, vmax=-40)\n",
    "\n",
    "# Adjust layout\n",
    "plt.tight_layout()\n",
    "\n",
    "# Display the plots\n",
    "plt.show()"
   ]
  },
  {
   "cell_type": "code",
   "execution_count": null,
   "id": "d1342406-0651-4543-af1b-aa96ebf5730f",
   "metadata": {
    "tags": []
   },
   "outputs": [],
   "source": [
    "# Display the initial coverage map\n",
    "fig = cm.show(tx=0, vmin=-150, vmax=-40)\n",
    "fig.suptitle(\"Before\")\n",
    "# Highlight the target area\n",
    "#visualize_target_area(fig.axes[0], cm_cell_size, target_center, target_size,)\n",
    "\n",
    "# Display the optimized coverage map\n",
    "fig = cm_new.show(tx=0, vmin=-150, vmax=-40)\n",
    "fig.suptitle(\"After\")\n",
    "# Highlight the target area\n",
    "#visualize_target_area(fig.axes[0], cm_cell_size, target_center, target_size)"
   ]
  },
  {
   "cell_type": "code",
   "execution_count": null,
   "id": "41f8daf0",
   "metadata": {},
   "outputs": [],
   "source": [
    "np.where(np.array([1,2,3,4,5]) < 3, 1, 0)\n",
    "200*200"
   ]
  },
  {
   "cell_type": "code",
   "execution_count": null,
   "id": "f58c5cca",
   "metadata": {},
   "outputs": [],
   "source": [
    "import numpy as np\n",
    "cm_0 = np.where(cm_new[0]==0, 1e-12, cm_new[0])\n",
    "cm_1 = np.where(cm_new[1]==0, 1e-12, cm_new[1])\n",
    "cm_2 = np.where(cm_new[2]==0, 1e-12, cm_new[2])\n",
    "N=0\n",
    "SINR_0 = cm_0 / (cm_1 + cm_2+N)\n",
    "SINR_1 = cm_1 / (cm_0 + cm_2+N)\n",
    "SINR_2 = cm_2 / (cm_0 + cm_1 + N)\n",
    "\n",
    "sns.heatmap(10 * tf.math.log(SINR_0))\n",
    "plt.show()\n",
    "sns.heatmap(10 * tf.math.log(SINR_1))\n",
    "plt.show()\n",
    "sns.heatmap(10 * tf.math.log(SINR_2))\n",
    "plt.show()\n",
    "\n",
    "# Define the threshold value\n",
    "up_threshold = 13\n",
    "\n",
    "# Create the mask\n",
    "mask_0 = np.where(SINR_0 > up_threshold, 1, 0)\n",
    "mask_1 = np.where(SINR_1 > up_threshold, 1, 0)\n",
    "mask_2 = np.where(SINR_2 > up_threshold, 1, 0)\n",
    "print(sum(sum(mask_0)) + sum(sum(mask_1)) + sum(sum(mask_2)))\n",
    "sns.heatmap(mask_0)\n",
    "plt.show()\n",
    "sns.heatmap(mask_1)\n",
    "plt.show()\n",
    "sns.heatmap(mask_2)\n",
    "plt.show()\n",
    "\n",
    "sns.heatmap(mask_0+mask_1+mask_2)\n",
    "plt.show()"
   ]
  },
  {
   "cell_type": "code",
   "execution_count": null,
   "id": "7ab949a6",
   "metadata": {},
   "outputs": [],
   "source": [
    "scene.preview(coverage_map=cm_new, cm_tx=2)"
   ]
  },
  {
   "cell_type": "markdown",
   "id": "1cc7b666-a26c-4118-8bf7-cb22b720e87f",
   "metadata": {},
   "source": [
    "We can also visualize the coverage maps as an overlay of the scene using the renderer."
   ]
  },
  {
   "cell_type": "code",
   "execution_count": null,
   "id": "09e1678f",
   "metadata": {},
   "outputs": [],
   "source": [
    "scene.cameras['scene-cam-0'].orientation"
   ]
  },
  {
   "cell_type": "code",
   "execution_count": null,
   "id": "6255a7ab",
   "metadata": {},
   "outputs": [],
   "source": [
    "scene.cameras['scene-cam-0'].position"
   ]
  },
  {
   "cell_type": "code",
   "execution_count": null,
   "id": "ab6fc5b9",
   "metadata": {},
   "outputs": [],
   "source": [
    "fig = scene.render('scene-cam-0')\n",
    "fig.suptitle(\"Before\")"
   ]
  },
  {
   "cell_type": "code",
   "execution_count": null,
   "id": "80829cca-1669-4170-a03c-c78012b70845",
   "metadata": {
    "tags": []
   },
   "outputs": [],
   "source": [
    "#Add a camera for viewing the scene from the sky\n",
    "scene.add(Camera(\"top-view5\", position=(3.452233e+05, 5.685208e+06, 1.830229e+03), orientation=(-41.92037 * np.pi / 180 ,  -0.0509  * np.pi / 180, -90 * np.pi / 180)))\n",
    "#Rendering with the unoptimized orientation\n",
    "fig = scene.render(\"top-view5\")\n",
    "fig.suptitle(\"Before\")"
   ]
  },
  {
   "cell_type": "markdown",
   "id": "5ea9faeb-2fa4-4ffc-821f-e5eb8e2b2ea1",
   "metadata": {},
   "source": [
    "## Discussion\n",
    "\n",
    "- Other loss functions could be used. For example, if multiple transmitters are considered, maximization of the signal-to-interference ratio could be used as objective function.\n",
    "\n",
    "- Only the orientation is optimized in this notebook. However, other parameters could be learned as well, such as the geometry of the transmitter/receiver arrays as well as precoding vectors.\n",
    "\n",
    "- In general, the optimization of a coverage map is a non-convex problem, especially when considering antenna arrays with complex radiation patterns. One could resort to other optimization methods such as Bayesian learning in this case."
   ]
  },
  {
   "cell_type": "code",
   "execution_count": null,
   "id": "8a7eaa29",
   "metadata": {},
   "outputs": [],
   "source": [
    "#cmaps = []"
   ]
  },
  {
   "cell_type": "code",
   "execution_count": null,
   "id": "e224b31a",
   "metadata": {},
   "outputs": [],
   "source": [
    "cmaps.append(cm_new)"
   ]
  },
  {
   "cell_type": "code",
   "execution_count": null,
   "id": "7f393da9",
   "metadata": {},
   "outputs": [],
   "source": [
    "settings = [[1.5583165,  0.35283738, 0.10147938], [ 3.0284588,   2.7056296,  -0.13907725],[1.8631023, 2.842613, 0.287598 ]]"
   ]
  },
  {
   "cell_type": "code",
   "execution_count": null,
   "id": "2c0d92ce",
   "metadata": {},
   "outputs": [],
   "source": [
    "fig = scene.render(\"top-view2\", coverage_map=cmaps[0].as_tensor() + cmaps[1].as_tensor() + cmaps[2].as_tensor(), cm_vmin=-140, cm_vmax=-40)\n",
    "fig.suptitle(\"After setting optimisation\")"
   ]
  },
  {
   "cell_type": "code",
   "execution_count": null,
   "id": "216a86cf",
   "metadata": {},
   "outputs": [],
   "source": [
    "scene.preview(coverage_map=cmaps[2])"
   ]
  },
  {
   "cell_type": "code",
   "execution_count": null,
   "id": "f8eeb1c8",
   "metadata": {},
   "outputs": [],
   "source": [
    "scene.preview(coverage_map=cmaps[1])"
   ]
  }
 ],
 "metadata": {
  "kernelspec": {
   "display_name": "Python 3 (ipykernel)",
   "language": "python",
   "name": "python3"
  },
  "language_info": {
   "codemirror_mode": {
    "name": "ipython",
    "version": 3
   },
   "file_extension": ".py",
   "mimetype": "text/x-python",
   "name": "python",
   "nbconvert_exporter": "python",
   "pygments_lexer": "ipython3",
   "version": "3.9.18"
  }
 },
 "nbformat": 4,
 "nbformat_minor": 5
}
